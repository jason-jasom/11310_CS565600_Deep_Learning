{
  "nbformat": 4,
  "nbformat_minor": 0,
  "metadata": {
    "colab": {
      "provenance": []
    },
    "kernelspec": {
      "name": "python3",
      "display_name": "Python 3"
    },
    "language_info": {
      "name": "python"
    }
  },
  "cells": [
    {
      "cell_type": "code",
      "execution_count": 1,
      "metadata": {
        "id": "4aHmf11K8cSQ"
      },
      "outputs": [],
      "source": [
        "# inline plotting instead of popping out\n",
        "%matplotlib inline\n",
        "\n",
        "import os\n",
        "from IPython.display import display\n",
        "\n",
        "import numpy as np\n",
        "import pandas as pd\n",
        "import matplotlib.pyplot as plt\n",
        "from matplotlib.colors import ListedColormap\n",
        "\n",
        "from sklearn.datasets import load_wine, load_breast_cancer\n",
        "from sklearn.ensemble import RandomForestClassifier\n",
        "from sklearn.feature_selection import SelectFromModel\n",
        "from sklearn.metrics import accuracy_score\n",
        "from sklearn.model_selection import train_test_split\n",
        "from sklearn.tree import DecisionTreeClassifier, export_graphviz"
      ]
    },
    {
      "cell_type": "code",
      "source": [
        "\"\"\"\n",
        "from sklearn.tree import DecisionTreeClassifier\n",
        "from sklearn.model_selection import train_test_split\n",
        "from sklearn.datasets import load_breast_cancer\n",
        "import pandas as pd\n",
        "from sklearn.metrics import accuracy_score\n",
        "from sklearn.ensemble import RandomForestClassifier\n",
        "\"\"\"\n",
        "\n",
        "# load the breast_cancer dataset\n",
        "init_data = load_breast_cancer()\n",
        "(X, y) = load_breast_cancer(return_X_y=True)\n",
        "X = pd.DataFrame(data=X, columns=init_data['feature_names'])\n",
        "y = pd.DataFrame(data=y, columns=['label'])\n",
        "\n",
        "# split X into training and testing sets\n",
        "X = X[['worst concave points','mean concave points']]\n",
        "X_train, X_test, y_train, y_test = train_test_split(X, y, test_size=0.3, random_state=0)\n",
        "\n",
        "# Train a RandomForestClassifier as model\n",
        "forest = RandomForestClassifier(criterion='entropy',\n",
        "                                n_estimators=200,\n",
        "                                random_state=1,\n",
        "                                n_jobs=2)\n",
        "forest.fit(X_train, y_train)\n",
        "\n",
        "y_pred = forest.predict(X_test)\n",
        "print('Accuracy: %.2f' % accuracy_score(y_test, y_pred))\n",
        "print('Accuracy per feature: %.2f' % (accuracy_score(y_test, y_pred)/X.shape[1]))"
      ],
      "metadata": {
        "colab": {
          "base_uri": "https://localhost:8080/"
        },
        "id": "WIlFvWaJ8v8F",
        "outputId": "cfa6f49e-ddd5-4fbb-d8b6-2ad27713aa0d"
      },
      "execution_count": 23,
      "outputs": [
        {
          "output_type": "stream",
          "name": "stderr",
          "text": [
            "/usr/local/lib/python3.10/dist-packages/sklearn/base.py:1152: DataConversionWarning: A column-vector y was passed when a 1d array was expected. Please change the shape of y to (n_samples,), for example using ravel().\n",
            "  return fit_method(estimator, *args, **kwargs)\n"
          ]
        },
        {
          "output_type": "stream",
          "name": "stdout",
          "text": [
            "Accuracy: 0.89\n",
            "Accuracy per feature: 0.44\n"
          ]
        }
      ]
    }
  ]
}
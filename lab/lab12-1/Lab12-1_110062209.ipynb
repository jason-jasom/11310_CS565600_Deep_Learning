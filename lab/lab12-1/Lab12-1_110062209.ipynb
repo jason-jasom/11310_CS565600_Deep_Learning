{
  "nbformat": 4,
  "nbformat_minor": 0,
  "metadata": {
    "colab": {
      "provenance": [],
      "gpuType": "T4"
    },
    "kernelspec": {
      "name": "python3",
      "display_name": "Python 3"
    },
    "language_info": {
      "name": "python"
    },
    "accelerator": "GPU"
  },
  "cells": [
    {
      "cell_type": "code",
      "source": [
        "!pip uninstall tensorflow -y\n",
        "!pip install tensorflow==2.15.1"
      ],
      "metadata": {
        "colab": {
          "base_uri": "https://localhost:8080/",
          "height": 1000
        },
        "id": "sd6DpjqxIgn-",
        "outputId": "7e3d8a3e-a879-4fd8-8804-3a1fde7feb96"
      },
      "execution_count": 16,
      "outputs": [
        {
          "output_type": "stream",
          "name": "stdout",
          "text": [
            "Found existing installation: tensorflow 2.16.1\n",
            "Uninstalling tensorflow-2.16.1:\n",
            "  Successfully uninstalled tensorflow-2.16.1\n",
            "Collecting tensorflow==2.15.1\n",
            "  Downloading tensorflow-2.15.1-cp310-cp310-manylinux_2_17_x86_64.manylinux2014_x86_64.whl.metadata (4.2 kB)\n",
            "Requirement already satisfied: absl-py>=1.0.0 in /usr/local/lib/python3.10/dist-packages (from tensorflow==2.15.1) (1.4.0)\n",
            "Requirement already satisfied: astunparse>=1.6.0 in /usr/local/lib/python3.10/dist-packages (from tensorflow==2.15.1) (1.6.3)\n",
            "Requirement already satisfied: flatbuffers>=23.5.26 in /usr/local/lib/python3.10/dist-packages (from tensorflow==2.15.1) (24.3.25)\n",
            "Requirement already satisfied: gast!=0.5.0,!=0.5.1,!=0.5.2,>=0.2.1 in /usr/local/lib/python3.10/dist-packages (from tensorflow==2.15.1) (0.4.0)\n",
            "Requirement already satisfied: google-pasta>=0.1.1 in /usr/local/lib/python3.10/dist-packages (from tensorflow==2.15.1) (0.2.0)\n",
            "Requirement already satisfied: h5py>=2.9.0 in /usr/local/lib/python3.10/dist-packages (from tensorflow==2.15.1) (3.12.1)\n",
            "Requirement already satisfied: libclang>=13.0.0 in /usr/local/lib/python3.10/dist-packages (from tensorflow==2.15.1) (18.1.1)\n",
            "Requirement already satisfied: ml-dtypes~=0.3.1 in /usr/local/lib/python3.10/dist-packages (from tensorflow==2.15.1) (0.3.2)\n",
            "Requirement already satisfied: numpy<2.0.0,>=1.23.5 in /usr/local/lib/python3.10/dist-packages (from tensorflow==2.15.1) (1.26.4)\n",
            "Requirement already satisfied: opt-einsum>=2.3.2 in /usr/local/lib/python3.10/dist-packages (from tensorflow==2.15.1) (3.4.0)\n",
            "Requirement already satisfied: packaging in /usr/local/lib/python3.10/dist-packages (from tensorflow==2.15.1) (24.1)\n",
            "Requirement already satisfied: protobuf!=4.21.0,!=4.21.1,!=4.21.2,!=4.21.3,!=4.21.4,!=4.21.5,<5.0.0dev,>=3.20.3 in /usr/local/lib/python3.10/dist-packages (from tensorflow==2.15.1) (4.25.5)\n",
            "Requirement already satisfied: setuptools in /usr/local/lib/python3.10/dist-packages (from tensorflow==2.15.1) (75.1.0)\n",
            "Requirement already satisfied: six>=1.12.0 in /usr/local/lib/python3.10/dist-packages (from tensorflow==2.15.1) (1.16.0)\n",
            "Requirement already satisfied: termcolor>=1.1.0 in /usr/local/lib/python3.10/dist-packages (from tensorflow==2.15.1) (2.5.0)\n",
            "Requirement already satisfied: typing-extensions>=3.6.6 in /usr/local/lib/python3.10/dist-packages (from tensorflow==2.15.1) (4.12.2)\n",
            "Collecting wrapt<1.15,>=1.11.0 (from tensorflow==2.15.1)\n",
            "  Downloading wrapt-1.14.1-cp310-cp310-manylinux_2_5_x86_64.manylinux1_x86_64.manylinux_2_17_x86_64.manylinux2014_x86_64.whl.metadata (6.7 kB)\n",
            "Requirement already satisfied: tensorflow-io-gcs-filesystem>=0.23.1 in /usr/local/lib/python3.10/dist-packages (from tensorflow==2.15.1) (0.37.1)\n",
            "Requirement already satisfied: grpcio<2.0,>=1.24.3 in /usr/local/lib/python3.10/dist-packages (from tensorflow==2.15.1) (1.64.1)\n",
            "Collecting tensorboard<2.16,>=2.15 (from tensorflow==2.15.1)\n",
            "  Downloading tensorboard-2.15.2-py3-none-any.whl.metadata (1.7 kB)\n",
            "Collecting tensorflow-estimator<2.16,>=2.15.0 (from tensorflow==2.15.1)\n",
            "  Downloading tensorflow_estimator-2.15.0-py2.py3-none-any.whl.metadata (1.3 kB)\n",
            "Collecting keras<2.16,>=2.15.0 (from tensorflow==2.15.1)\n",
            "  Downloading keras-2.15.0-py3-none-any.whl.metadata (2.4 kB)\n",
            "Requirement already satisfied: wheel<1.0,>=0.23.0 in /usr/local/lib/python3.10/dist-packages (from astunparse>=1.6.0->tensorflow==2.15.1) (0.44.0)\n",
            "Requirement already satisfied: google-auth<3,>=1.6.3 in /usr/local/lib/python3.10/dist-packages (from tensorboard<2.16,>=2.15->tensorflow==2.15.1) (2.27.0)\n",
            "Collecting google-auth-oauthlib<2,>=0.5 (from tensorboard<2.16,>=2.15->tensorflow==2.15.1)\n",
            "  Downloading google_auth_oauthlib-1.2.1-py2.py3-none-any.whl.metadata (2.7 kB)\n",
            "Requirement already satisfied: markdown>=2.6.8 in /usr/local/lib/python3.10/dist-packages (from tensorboard<2.16,>=2.15->tensorflow==2.15.1) (3.7)\n",
            "Requirement already satisfied: requests<3,>=2.21.0 in /usr/local/lib/python3.10/dist-packages (from tensorboard<2.16,>=2.15->tensorflow==2.15.1) (2.32.3)\n",
            "Requirement already satisfied: tensorboard-data-server<0.8.0,>=0.7.0 in /usr/local/lib/python3.10/dist-packages (from tensorboard<2.16,>=2.15->tensorflow==2.15.1) (0.7.2)\n",
            "Requirement already satisfied: werkzeug>=1.0.1 in /usr/local/lib/python3.10/dist-packages (from tensorboard<2.16,>=2.15->tensorflow==2.15.1) (3.0.6)\n",
            "Requirement already satisfied: cachetools<6.0,>=2.0.0 in /usr/local/lib/python3.10/dist-packages (from google-auth<3,>=1.6.3->tensorboard<2.16,>=2.15->tensorflow==2.15.1) (5.5.0)\n",
            "Requirement already satisfied: pyasn1-modules>=0.2.1 in /usr/local/lib/python3.10/dist-packages (from google-auth<3,>=1.6.3->tensorboard<2.16,>=2.15->tensorflow==2.15.1) (0.4.1)\n",
            "Requirement already satisfied: rsa<5,>=3.1.4 in /usr/local/lib/python3.10/dist-packages (from google-auth<3,>=1.6.3->tensorboard<2.16,>=2.15->tensorflow==2.15.1) (4.9)\n",
            "Requirement already satisfied: requests-oauthlib>=0.7.0 in /usr/local/lib/python3.10/dist-packages (from google-auth-oauthlib<2,>=0.5->tensorboard<2.16,>=2.15->tensorflow==2.15.1) (1.3.1)\n",
            "Requirement already satisfied: charset-normalizer<4,>=2 in /usr/local/lib/python3.10/dist-packages (from requests<3,>=2.21.0->tensorboard<2.16,>=2.15->tensorflow==2.15.1) (3.4.0)\n",
            "Requirement already satisfied: idna<4,>=2.5 in /usr/local/lib/python3.10/dist-packages (from requests<3,>=2.21.0->tensorboard<2.16,>=2.15->tensorflow==2.15.1) (3.10)\n",
            "Requirement already satisfied: urllib3<3,>=1.21.1 in /usr/local/lib/python3.10/dist-packages (from requests<3,>=2.21.0->tensorboard<2.16,>=2.15->tensorflow==2.15.1) (2.2.3)\n",
            "Requirement already satisfied: certifi>=2017.4.17 in /usr/local/lib/python3.10/dist-packages (from requests<3,>=2.21.0->tensorboard<2.16,>=2.15->tensorflow==2.15.1) (2024.8.30)\n",
            "Requirement already satisfied: MarkupSafe>=2.1.1 in /usr/local/lib/python3.10/dist-packages (from werkzeug>=1.0.1->tensorboard<2.16,>=2.15->tensorflow==2.15.1) (3.0.2)\n",
            "Requirement already satisfied: pyasn1<0.7.0,>=0.4.6 in /usr/local/lib/python3.10/dist-packages (from pyasn1-modules>=0.2.1->google-auth<3,>=1.6.3->tensorboard<2.16,>=2.15->tensorflow==2.15.1) (0.6.1)\n",
            "Requirement already satisfied: oauthlib>=3.0.0 in /usr/local/lib/python3.10/dist-packages (from requests-oauthlib>=0.7.0->google-auth-oauthlib<2,>=0.5->tensorboard<2.16,>=2.15->tensorflow==2.15.1) (3.2.2)\n",
            "Downloading tensorflow-2.15.1-cp310-cp310-manylinux_2_17_x86_64.manylinux2014_x86_64.whl (475.2 MB)\n",
            "\u001b[2K   \u001b[90m━━━━━━━━━━━━━━━━━━━━━━━━━━━━━━━━━━━━━━━━\u001b[0m \u001b[32m475.2/475.2 MB\u001b[0m \u001b[31m3.2 MB/s\u001b[0m eta \u001b[36m0:00:00\u001b[0m\n",
            "\u001b[?25hDownloading keras-2.15.0-py3-none-any.whl (1.7 MB)\n",
            "\u001b[2K   \u001b[90m━━━━━━━━━━━━━━━━━━━━━━━━━━━━━━━━━━━━━━━━\u001b[0m \u001b[32m1.7/1.7 MB\u001b[0m \u001b[31m57.2 MB/s\u001b[0m eta \u001b[36m0:00:00\u001b[0m\n",
            "\u001b[?25hDownloading tensorboard-2.15.2-py3-none-any.whl (5.5 MB)\n",
            "\u001b[2K   \u001b[90m━━━━━━━━━━━━━━━━━━━━━━━━━━━━━━━━━━━━━━━━\u001b[0m \u001b[32m5.5/5.5 MB\u001b[0m \u001b[31m71.6 MB/s\u001b[0m eta \u001b[36m0:00:00\u001b[0m\n",
            "\u001b[?25hDownloading tensorflow_estimator-2.15.0-py2.py3-none-any.whl (441 kB)\n",
            "\u001b[2K   \u001b[90m━━━━━━━━━━━━━━━━━━━━━━━━━━━━━━━━━━━━━━━━\u001b[0m \u001b[32m442.0/442.0 kB\u001b[0m \u001b[31m29.6 MB/s\u001b[0m eta \u001b[36m0:00:00\u001b[0m\n",
            "\u001b[?25hDownloading wrapt-1.14.1-cp310-cp310-manylinux_2_5_x86_64.manylinux1_x86_64.manylinux_2_17_x86_64.manylinux2014_x86_64.whl (77 kB)\n",
            "\u001b[2K   \u001b[90m━━━━━━━━━━━━━━━━━━━━━━━━━━━━━━━━━━━━━━━━\u001b[0m \u001b[32m77.9/77.9 kB\u001b[0m \u001b[31m7.1 MB/s\u001b[0m eta \u001b[36m0:00:00\u001b[0m\n",
            "\u001b[?25hDownloading google_auth_oauthlib-1.2.1-py2.py3-none-any.whl (24 kB)\n",
            "Installing collected packages: wrapt, tensorflow-estimator, keras, google-auth-oauthlib, tensorboard, tensorflow\n",
            "  Attempting uninstall: wrapt\n",
            "    Found existing installation: wrapt 1.16.0\n",
            "    Uninstalling wrapt-1.16.0:\n",
            "      Successfully uninstalled wrapt-1.16.0\n",
            "  Attempting uninstall: tensorflow-estimator\n",
            "    Found existing installation: tensorflow-estimator 2.10.0\n",
            "    Uninstalling tensorflow-estimator-2.10.0:\n",
            "      Successfully uninstalled tensorflow-estimator-2.10.0\n",
            "  Attempting uninstall: keras\n",
            "    Found existing installation: keras 3.6.0\n",
            "    Uninstalling keras-3.6.0:\n",
            "      Successfully uninstalled keras-3.6.0\n",
            "  Attempting uninstall: google-auth-oauthlib\n",
            "    Found existing installation: google-auth-oauthlib 0.4.6\n",
            "    Uninstalling google-auth-oauthlib-0.4.6:\n",
            "      Successfully uninstalled google-auth-oauthlib-0.4.6\n",
            "  Attempting uninstall: tensorboard\n",
            "    Found existing installation: tensorboard 2.16.2\n",
            "    Uninstalling tensorboard-2.16.2:\n",
            "      Successfully uninstalled tensorboard-2.16.2\n",
            "\u001b[31mERROR: pip's dependency resolver does not currently take into account all the packages that are installed. This behaviour is the source of the following dependency conflicts.\n",
            "tf-keras 2.17.0 requires tensorflow<2.18,>=2.17, but you have tensorflow 2.15.1 which is incompatible.\u001b[0m\u001b[31m\n",
            "\u001b[0mSuccessfully installed google-auth-oauthlib-1.2.1 keras-2.15.0 tensorboard-2.15.2 tensorflow-2.15.1 tensorflow-estimator-2.15.0 wrapt-1.14.1\n"
          ]
        },
        {
          "output_type": "display_data",
          "data": {
            "application/vnd.colab-display-data+json": {
              "pip_warning": {
                "packages": [
                  "keras",
                  "tensorflow",
                  "wrapt"
                ]
              },
              "id": "c6e24a2d3e7f464ebe34ceeb41092d66"
            }
          },
          "metadata": {}
        }
      ]
    },
    {
      "cell_type": "code",
      "execution_count": 1,
      "metadata": {
        "id": "rbUJurrPsZV5"
      },
      "outputs": [],
      "source": [
        "import tensorflow as tf\n",
        "import pandas as pd\n",
        "import re\n",
        "import numpy as np\n",
        "import os\n",
        "import time\n",
        "from sklearn.model_selection import train_test_split"
      ]
    },
    {
      "cell_type": "code",
      "source": [
        "gpus = tf.config.experimental.list_physical_devices('GPU')\n",
        "if gpus:\n",
        "    try:\n",
        "        # Restrict TensorFlow to only use the first GPU\n",
        "        tf.config.experimental.set_visible_devices(gpus[0], 'GPU')\n",
        "\n",
        "        # Currently, memory growth needs to be the same across GPUs\n",
        "        for gpu in gpus:\n",
        "            tf.config.experimental.set_memory_growth(gpu, True)\n",
        "        logical_gpus = tf.config.experimental.list_logical_devices('GPU')\n",
        "        print(len(gpus), \"Physical GPUs,\", len(logical_gpus), \"Logical GPUs\")\n",
        "    except RuntimeError as e:\n",
        "        # Memory growth must be set before GPUs have been initialized\n",
        "        print(e)"
      ],
      "metadata": {
        "colab": {
          "base_uri": "https://localhost:8080/"
        },
        "id": "h5ToXViIsvnO",
        "outputId": "810850fd-a430-44ef-ebc6-c7a4cfe8d8e3"
      },
      "execution_count": 2,
      "outputs": [
        {
          "output_type": "stream",
          "name": "stdout",
          "text": [
            "1 Physical GPUs, 1 Logical GPUs\n"
          ]
        }
      ]
    },
    {
      "cell_type": "code",
      "source": [
        "!gdown --id 18mmELoMQu0wMKp2Sku23T4fbC3q9Eqgl\n",
        "!unzip -q data.zip"
      ],
      "metadata": {
        "colab": {
          "base_uri": "https://localhost:8080/"
        },
        "id": "VB-7hHGC2QOA",
        "outputId": "83f831f8-e288-4938-8caf-1f177bd0b5c5"
      },
      "execution_count": 4,
      "outputs": [
        {
          "output_type": "stream",
          "name": "stdout",
          "text": [
            "/usr/local/lib/python3.10/dist-packages/gdown/__main__.py:140: FutureWarning: Option `--id` was deprecated in version 4.3.1 and will be removed in 5.0. You don't need to pass it anymore to use a file ID.\n",
            "  warnings.warn(\n",
            "Downloading...\n",
            "From (original): https://drive.google.com/uc?id=18mmELoMQu0wMKp2Sku23T4fbC3q9Eqgl\n",
            "From (redirected): https://drive.google.com/uc?id=18mmELoMQu0wMKp2Sku23T4fbC3q9Eqgl&confirm=t&uuid=664689ae-c009-4409-ad4c-31f58ebd2b38\n",
            "To: /content/data.zip\n",
            "100% 38.0M/38.0M [00:00<00:00, 72.8MB/s]\n"
          ]
        }
      ]
    },
    {
      "cell_type": "code",
      "source": [
        "# load the dataset\n",
        "movie_reviews = pd.read_csv(\"./data/IMDB Dataset.csv\")"
      ],
      "metadata": {
        "id": "XLmKZvSSsxQO"
      },
      "execution_count": 3,
      "outputs": []
    },
    {
      "cell_type": "code",
      "source": [
        "# check if there is any null value in the dataset\n",
        "movie_reviews.isnull().values.any()"
      ],
      "metadata": {
        "colab": {
          "base_uri": "https://localhost:8080/"
        },
        "id": "01aRL0I9wCG8",
        "outputId": "4039ea01-ac45-4fde-cecd-260364646c12"
      },
      "execution_count": 4,
      "outputs": [
        {
          "output_type": "execute_result",
          "data": {
            "text/plain": [
              "False"
            ]
          },
          "metadata": {},
          "execution_count": 4
        }
      ]
    },
    {
      "cell_type": "code",
      "source": [
        "# show the size of the dataset\n",
        "movie_reviews.shape"
      ],
      "metadata": {
        "colab": {
          "base_uri": "https://localhost:8080/"
        },
        "id": "eqozyLHEwC9T",
        "outputId": "2e7d595f-773f-466a-e35f-7ff458526dfd"
      },
      "execution_count": 5,
      "outputs": [
        {
          "output_type": "execute_result",
          "data": {
            "text/plain": [
              "(50000, 2)"
            ]
          },
          "metadata": {},
          "execution_count": 5
        }
      ]
    },
    {
      "cell_type": "code",
      "source": [
        "# show the first five data in the dataset\n",
        "movie_reviews.head()"
      ],
      "metadata": {
        "colab": {
          "base_uri": "https://localhost:8080/",
          "height": 206
        },
        "id": "FLvhru5SwD4a",
        "outputId": "de3340c8-9005-41a3-9f80-aa3d28bcd972"
      },
      "execution_count": 6,
      "outputs": [
        {
          "output_type": "execute_result",
          "data": {
            "text/plain": [
              "                                              review sentiment\n",
              "0  One of the other reviewers has mentioned that ...  positive\n",
              "1  A wonderful little production. <br /><br />The...  positive\n",
              "2  I thought this was a wonderful way to spend ti...  positive\n",
              "3  Basically there's a family where a little boy ...  negative\n",
              "4  Petter Mattei's \"Love in the Time of Money\" is...  positive"
            ],
            "text/html": [
              "\n",
              "  <div id=\"df-29cb2d00-65c5-48f0-b327-adf7a026f513\" class=\"colab-df-container\">\n",
              "    <div>\n",
              "<style scoped>\n",
              "    .dataframe tbody tr th:only-of-type {\n",
              "        vertical-align: middle;\n",
              "    }\n",
              "\n",
              "    .dataframe tbody tr th {\n",
              "        vertical-align: top;\n",
              "    }\n",
              "\n",
              "    .dataframe thead th {\n",
              "        text-align: right;\n",
              "    }\n",
              "</style>\n",
              "<table border=\"1\" class=\"dataframe\">\n",
              "  <thead>\n",
              "    <tr style=\"text-align: right;\">\n",
              "      <th></th>\n",
              "      <th>review</th>\n",
              "      <th>sentiment</th>\n",
              "    </tr>\n",
              "  </thead>\n",
              "  <tbody>\n",
              "    <tr>\n",
              "      <th>0</th>\n",
              "      <td>One of the other reviewers has mentioned that ...</td>\n",
              "      <td>positive</td>\n",
              "    </tr>\n",
              "    <tr>\n",
              "      <th>1</th>\n",
              "      <td>A wonderful little production. &lt;br /&gt;&lt;br /&gt;The...</td>\n",
              "      <td>positive</td>\n",
              "    </tr>\n",
              "    <tr>\n",
              "      <th>2</th>\n",
              "      <td>I thought this was a wonderful way to spend ti...</td>\n",
              "      <td>positive</td>\n",
              "    </tr>\n",
              "    <tr>\n",
              "      <th>3</th>\n",
              "      <td>Basically there's a family where a little boy ...</td>\n",
              "      <td>negative</td>\n",
              "    </tr>\n",
              "    <tr>\n",
              "      <th>4</th>\n",
              "      <td>Petter Mattei's \"Love in the Time of Money\" is...</td>\n",
              "      <td>positive</td>\n",
              "    </tr>\n",
              "  </tbody>\n",
              "</table>\n",
              "</div>\n",
              "    <div class=\"colab-df-buttons\">\n",
              "\n",
              "  <div class=\"colab-df-container\">\n",
              "    <button class=\"colab-df-convert\" onclick=\"convertToInteractive('df-29cb2d00-65c5-48f0-b327-adf7a026f513')\"\n",
              "            title=\"Convert this dataframe to an interactive table.\"\n",
              "            style=\"display:none;\">\n",
              "\n",
              "  <svg xmlns=\"http://www.w3.org/2000/svg\" height=\"24px\" viewBox=\"0 -960 960 960\">\n",
              "    <path d=\"M120-120v-720h720v720H120Zm60-500h600v-160H180v160Zm220 220h160v-160H400v160Zm0 220h160v-160H400v160ZM180-400h160v-160H180v160Zm440 0h160v-160H620v160ZM180-180h160v-160H180v160Zm440 0h160v-160H620v160Z\"/>\n",
              "  </svg>\n",
              "    </button>\n",
              "\n",
              "  <style>\n",
              "    .colab-df-container {\n",
              "      display:flex;\n",
              "      gap: 12px;\n",
              "    }\n",
              "\n",
              "    .colab-df-convert {\n",
              "      background-color: #E8F0FE;\n",
              "      border: none;\n",
              "      border-radius: 50%;\n",
              "      cursor: pointer;\n",
              "      display: none;\n",
              "      fill: #1967D2;\n",
              "      height: 32px;\n",
              "      padding: 0 0 0 0;\n",
              "      width: 32px;\n",
              "    }\n",
              "\n",
              "    .colab-df-convert:hover {\n",
              "      background-color: #E2EBFA;\n",
              "      box-shadow: 0px 1px 2px rgba(60, 64, 67, 0.3), 0px 1px 3px 1px rgba(60, 64, 67, 0.15);\n",
              "      fill: #174EA6;\n",
              "    }\n",
              "\n",
              "    .colab-df-buttons div {\n",
              "      margin-bottom: 4px;\n",
              "    }\n",
              "\n",
              "    [theme=dark] .colab-df-convert {\n",
              "      background-color: #3B4455;\n",
              "      fill: #D2E3FC;\n",
              "    }\n",
              "\n",
              "    [theme=dark] .colab-df-convert:hover {\n",
              "      background-color: #434B5C;\n",
              "      box-shadow: 0px 1px 3px 1px rgba(0, 0, 0, 0.15);\n",
              "      filter: drop-shadow(0px 1px 2px rgba(0, 0, 0, 0.3));\n",
              "      fill: #FFFFFF;\n",
              "    }\n",
              "  </style>\n",
              "\n",
              "    <script>\n",
              "      const buttonEl =\n",
              "        document.querySelector('#df-29cb2d00-65c5-48f0-b327-adf7a026f513 button.colab-df-convert');\n",
              "      buttonEl.style.display =\n",
              "        google.colab.kernel.accessAllowed ? 'block' : 'none';\n",
              "\n",
              "      async function convertToInteractive(key) {\n",
              "        const element = document.querySelector('#df-29cb2d00-65c5-48f0-b327-adf7a026f513');\n",
              "        const dataTable =\n",
              "          await google.colab.kernel.invokeFunction('convertToInteractive',\n",
              "                                                    [key], {});\n",
              "        if (!dataTable) return;\n",
              "\n",
              "        const docLinkHtml = 'Like what you see? Visit the ' +\n",
              "          '<a target=\"_blank\" href=https://colab.research.google.com/notebooks/data_table.ipynb>data table notebook</a>'\n",
              "          + ' to learn more about interactive tables.';\n",
              "        element.innerHTML = '';\n",
              "        dataTable['output_type'] = 'display_data';\n",
              "        await google.colab.output.renderOutput(dataTable, element);\n",
              "        const docLink = document.createElement('div');\n",
              "        docLink.innerHTML = docLinkHtml;\n",
              "        element.appendChild(docLink);\n",
              "      }\n",
              "    </script>\n",
              "  </div>\n",
              "\n",
              "\n",
              "<div id=\"df-5e931168-a71f-4686-b696-4c579207a37b\">\n",
              "  <button class=\"colab-df-quickchart\" onclick=\"quickchart('df-5e931168-a71f-4686-b696-4c579207a37b')\"\n",
              "            title=\"Suggest charts\"\n",
              "            style=\"display:none;\">\n",
              "\n",
              "<svg xmlns=\"http://www.w3.org/2000/svg\" height=\"24px\"viewBox=\"0 0 24 24\"\n",
              "     width=\"24px\">\n",
              "    <g>\n",
              "        <path d=\"M19 3H5c-1.1 0-2 .9-2 2v14c0 1.1.9 2 2 2h14c1.1 0 2-.9 2-2V5c0-1.1-.9-2-2-2zM9 17H7v-7h2v7zm4 0h-2V7h2v10zm4 0h-2v-4h2v4z\"/>\n",
              "    </g>\n",
              "</svg>\n",
              "  </button>\n",
              "\n",
              "<style>\n",
              "  .colab-df-quickchart {\n",
              "      --bg-color: #E8F0FE;\n",
              "      --fill-color: #1967D2;\n",
              "      --hover-bg-color: #E2EBFA;\n",
              "      --hover-fill-color: #174EA6;\n",
              "      --disabled-fill-color: #AAA;\n",
              "      --disabled-bg-color: #DDD;\n",
              "  }\n",
              "\n",
              "  [theme=dark] .colab-df-quickchart {\n",
              "      --bg-color: #3B4455;\n",
              "      --fill-color: #D2E3FC;\n",
              "      --hover-bg-color: #434B5C;\n",
              "      --hover-fill-color: #FFFFFF;\n",
              "      --disabled-bg-color: #3B4455;\n",
              "      --disabled-fill-color: #666;\n",
              "  }\n",
              "\n",
              "  .colab-df-quickchart {\n",
              "    background-color: var(--bg-color);\n",
              "    border: none;\n",
              "    border-radius: 50%;\n",
              "    cursor: pointer;\n",
              "    display: none;\n",
              "    fill: var(--fill-color);\n",
              "    height: 32px;\n",
              "    padding: 0;\n",
              "    width: 32px;\n",
              "  }\n",
              "\n",
              "  .colab-df-quickchart:hover {\n",
              "    background-color: var(--hover-bg-color);\n",
              "    box-shadow: 0 1px 2px rgba(60, 64, 67, 0.3), 0 1px 3px 1px rgba(60, 64, 67, 0.15);\n",
              "    fill: var(--button-hover-fill-color);\n",
              "  }\n",
              "\n",
              "  .colab-df-quickchart-complete:disabled,\n",
              "  .colab-df-quickchart-complete:disabled:hover {\n",
              "    background-color: var(--disabled-bg-color);\n",
              "    fill: var(--disabled-fill-color);\n",
              "    box-shadow: none;\n",
              "  }\n",
              "\n",
              "  .colab-df-spinner {\n",
              "    border: 2px solid var(--fill-color);\n",
              "    border-color: transparent;\n",
              "    border-bottom-color: var(--fill-color);\n",
              "    animation:\n",
              "      spin 1s steps(1) infinite;\n",
              "  }\n",
              "\n",
              "  @keyframes spin {\n",
              "    0% {\n",
              "      border-color: transparent;\n",
              "      border-bottom-color: var(--fill-color);\n",
              "      border-left-color: var(--fill-color);\n",
              "    }\n",
              "    20% {\n",
              "      border-color: transparent;\n",
              "      border-left-color: var(--fill-color);\n",
              "      border-top-color: var(--fill-color);\n",
              "    }\n",
              "    30% {\n",
              "      border-color: transparent;\n",
              "      border-left-color: var(--fill-color);\n",
              "      border-top-color: var(--fill-color);\n",
              "      border-right-color: var(--fill-color);\n",
              "    }\n",
              "    40% {\n",
              "      border-color: transparent;\n",
              "      border-right-color: var(--fill-color);\n",
              "      border-top-color: var(--fill-color);\n",
              "    }\n",
              "    60% {\n",
              "      border-color: transparent;\n",
              "      border-right-color: var(--fill-color);\n",
              "    }\n",
              "    80% {\n",
              "      border-color: transparent;\n",
              "      border-right-color: var(--fill-color);\n",
              "      border-bottom-color: var(--fill-color);\n",
              "    }\n",
              "    90% {\n",
              "      border-color: transparent;\n",
              "      border-bottom-color: var(--fill-color);\n",
              "    }\n",
              "  }\n",
              "</style>\n",
              "\n",
              "  <script>\n",
              "    async function quickchart(key) {\n",
              "      const quickchartButtonEl =\n",
              "        document.querySelector('#' + key + ' button');\n",
              "      quickchartButtonEl.disabled = true;  // To prevent multiple clicks.\n",
              "      quickchartButtonEl.classList.add('colab-df-spinner');\n",
              "      try {\n",
              "        const charts = await google.colab.kernel.invokeFunction(\n",
              "            'suggestCharts', [key], {});\n",
              "      } catch (error) {\n",
              "        console.error('Error during call to suggestCharts:', error);\n",
              "      }\n",
              "      quickchartButtonEl.classList.remove('colab-df-spinner');\n",
              "      quickchartButtonEl.classList.add('colab-df-quickchart-complete');\n",
              "    }\n",
              "    (() => {\n",
              "      let quickchartButtonEl =\n",
              "        document.querySelector('#df-5e931168-a71f-4686-b696-4c579207a37b button');\n",
              "      quickchartButtonEl.style.display =\n",
              "        google.colab.kernel.accessAllowed ? 'block' : 'none';\n",
              "    })();\n",
              "  </script>\n",
              "</div>\n",
              "\n",
              "    </div>\n",
              "  </div>\n"
            ],
            "application/vnd.google.colaboratory.intrinsic+json": {
              "type": "dataframe",
              "variable_name": "movie_reviews",
              "summary": "{\n  \"name\": \"movie_reviews\",\n  \"rows\": 50000,\n  \"fields\": [\n    {\n      \"column\": \"review\",\n      \"properties\": {\n        \"dtype\": \"string\",\n        \"num_unique_values\": 49582,\n        \"samples\": [\n          \"\\\"Soul Plane\\\" is a horrible attempt at comedy that only should appeal people with thick skulls, bloodshot eyes and furry pawns. <br /><br />The plot is not only incoherent but also non-existent, acting is mostly sub sub-par with a gang of highly moronic and dreadful characters thrown in for bad measure, jokes are often spotted miles ahead and almost never even a bit amusing. This movie lacks any structure and is full of racial stereotypes that must have seemed old even in the fifties, the only thing it really has going for it is some pretty ladies, but really, if you want that you can rent something from the \\\"Adult\\\" section. OK?<br /><br />I can hardly see anything here to recommend since you'll probably have a lot a better and productive time chasing rats with a sledgehammer or inventing waterproof teabags or whatever.<br /><br />2/10\",\n          \"Guest from the Future tells a fascinating story of time travel, friendship, battle of good and evil -- all with a small budget, child actors, and few special effects. Something for Spielberg and Lucas to learn from. ;) A sixth-grader Kolya \\\"Nick\\\" Gerasimov finds a time machine in the basement of a decrepit building and travels 100 years into the future. He discovers a near-perfect, utopian society where robots play guitars and write poetry, everyone is kind to each other and people enjoy everything technology has to offer. Alice is the daughter of a prominent scientist who invented a device called Mielophone that allows to read minds of humans and animals. The device can be put to both good and bad use, depending on whose hands it falls into. When two evil space pirates from Saturn who want to rule the universe attempt to steal Mielophone, it falls into the hands of 20th century school boy Nick. With the pirates hot on his tracks, he travels back to his time, followed by the pirates, and Alice. Chaos, confusion and funny situations follow as the luckless pirates try to blend in with the earthlings. Alice enrolls in the same school Nick goes to and demonstrates superhuman abilities in PE class. The catch is, Alice doesn't know what Nick looks like, while the pirates do. Also, the pirates are able to change their appearance and turn literally into anyone. (Hmm, I wonder if this is where James Cameron got the idea for Terminator...) Who gets to Nick -- and Mielophone -- first? Excellent plot, non-stop adventures, and great soundtrack. I wish Hollywood made kid movies like this one...\",\n          \"\\\"National Treasure\\\" (2004) is a thoroughly misguided hodge-podge of plot entanglements that borrow from nearly every cloak and dagger government conspiracy clich\\u00e9 that has ever been written. The film stars Nicholas Cage as Benjamin Franklin Gates (how precious is that, I ask you?); a seemingly normal fellow who, for no other reason than being of a lineage of like-minded misguided fortune hunters, decides to steal a 'national treasure' that has been hidden by the United States founding fathers. After a bit of subtext and background that plays laughably (unintentionally) like Indiana Jones meets The Patriot, the film degenerates into one misguided whimsy after another \\u0096 attempting to create a 'Stanley Goodspeed' regurgitation of Nicholas Cage and launch the whole convoluted mess forward with a series of high octane, but disconnected misadventures.<br /><br />The relevancy and logic to having George Washington and his motley crew of patriots burying a king's ransom someplace on native soil, and then, going through the meticulous plan of leaving clues scattered throughout U.S. currency art work, is something that director Jon Turteltaub never quite gets around to explaining. Couldn't Washington found better usage for such wealth during the start up of the country? Hence, we are left with a mystery built on top of an enigma that is already on shaky ground by the time Ben appoints himself the new custodian of this untold wealth. Ben's intentions are noble \\u0096 if confusing. He's set on protecting the treasure. For who and when?\\u0085your guess is as good as mine.<br /><br />But there are a few problems with Ben's crusade. First up, his friend, Ian Holmes (Sean Bean) decides that he can't wait for Ben to make up his mind about stealing the Declaration of Independence from the National Archives (oh, yeah \\u0096 brilliant idea!). Presumably, the back of that famous document holds the secret answer to the ultimate fortune. So Ian tries to kill Ben. The assassination attempt is, of course, unsuccessful, if overly melodramatic. It also affords Ben the opportunity to pick up, and pick on, the very sultry curator of the archives, Abigail Chase (Diane Kruger). She thinks Ben is clearly a nut \\u0096 at least at the beginning. But true to action/romance form, Abby's resolve melts quicker than you can say, \\\"is that the Hope Diamond?\\\" The film moves into full X-File-ish mode, as the FBI, mistakenly believing that Ben is behind the theft, retaliate in various benign ways that lead to a multi-layering of action sequences reminiscent of Mission Impossible meets The Fugitive. Honestly, don't those guys ever get 'intelligence' information that is correct? In the final analysis, \\\"National Treasure\\\" isn't great film making, so much as it's a patchwork rehash of tired old bits from other movies, woven together from scraps, the likes of which would make IL' Betsy Ross blush.<br /><br />The Buena Vista DVD delivers a far more generous treatment than this film is deserving of. The anamorphic widescreen picture exhibits a very smooth and finely detailed image with very rich colors, natural flesh tones, solid blacks and clean whites. The stylized image is also free of blemishes and digital enhancements. The audio is 5.1 and delivers a nice sonic boom to your side and rear speakers with intensity and realism. Extras include a host of promotional junket material that is rather deep and over the top in its explanation of how and why this film was made. If only, as an audience, we had had more clarification as to why Ben and co. were chasing after an illusive treasure, this might have been one good flick. Extras conclude with the theatrical trailer, audio commentary and deleted scenes. Not for the faint-hearted \\u0096 just the thick-headed.\"\n        ],\n        \"semantic_type\": \"\",\n        \"description\": \"\"\n      }\n    },\n    {\n      \"column\": \"sentiment\",\n      \"properties\": {\n        \"dtype\": \"category\",\n        \"num_unique_values\": 2,\n        \"samples\": [\n          \"negative\",\n          \"positive\"\n        ],\n        \"semantic_type\": \"\",\n        \"description\": \"\"\n      }\n    }\n  ]\n}"
            }
          },
          "metadata": {},
          "execution_count": 6
        }
      ]
    },
    {
      "cell_type": "code",
      "source": [
        "movie_reviews[\"review\"][0]"
      ],
      "metadata": {
        "colab": {
          "base_uri": "https://localhost:8080/",
          "height": 144
        },
        "id": "xSPRY1QcwFpK",
        "outputId": "b14d82ce-c93d-4e36-cce9-d39e37d44e11"
      },
      "execution_count": 7,
      "outputs": [
        {
          "output_type": "execute_result",
          "data": {
            "text/plain": [
              "\"One of the other reviewers has mentioned that after watching just 1 Oz episode you'll be hooked. They are right, as this is exactly what happened with me.<br /><br />The first thing that struck me about Oz was its brutality and unflinching scenes of violence, which set in right from the word GO. Trust me, this is not a show for the faint hearted or timid. This show pulls no punches with regards to drugs, sex or violence. Its is hardcore, in the classic use of the word.<br /><br />It is called OZ as that is the nickname given to the Oswald Maximum Security State Penitentary. It focuses mainly on Emerald City, an experimental section of the prison where all the cells have glass fronts and face inwards, so privacy is not high on the agenda. Em City is home to many..Aryans, Muslims, gangstas, Latinos, Christians, Italians, Irish and more....so scuffles, death stares, dodgy dealings and shady agreements are never far away.<br /><br />I would say the main appeal of the show is due to the fact that it goes where other shows wouldn't dare. Forget pretty pictures painted for mainstream audiences, forget charm, forget romance...OZ doesn't mess around. The first episode I ever saw struck me as so nasty it was surreal, I couldn't say I was ready for it, but as I watched more, I developed a taste for Oz, and got accustomed to the high levels of graphic violence. Not just violence, but injustice (crooked guards who'll be sold out for a nickel, inmates who'll kill on order and get away with it, well mannered, middle class inmates being turned into prison bitches due to their lack of street skills or prison experience) Watching Oz, you may become comfortable with what is uncomfortable viewing....thats if you can get in touch with your darker side.\""
            ],
            "application/vnd.google.colaboratory.intrinsic+json": {
              "type": "string"
            }
          },
          "metadata": {},
          "execution_count": 7
        }
      ]
    },
    {
      "cell_type": "code",
      "source": [
        "TAG_RE = re.compile(r'<[^>]+>')\n",
        "\n",
        "def remove_tags(text):\n",
        "    return TAG_RE.sub('', text)\n",
        "\n",
        "def preprocess_text(sen):\n",
        "    # Removing html tags\n",
        "    sentence = remove_tags(sen)\n",
        "\n",
        "    # Remove punctuations and numbers\n",
        "    sentence = re.sub('[^a-zA-Z]', ' ', sentence)\n",
        "\n",
        "    # Single character removal\n",
        "    sentence = re.sub(r\"\\s+[a-zA-Z]\\s+\", ' ', sentence)\n",
        "\n",
        "    # Removing multiple spaces\n",
        "    sentence = re.sub(r'\\s+', ' ', sentence)\n",
        "\n",
        "    return sentence"
      ],
      "metadata": {
        "id": "lKZppXYNvqVb"
      },
      "execution_count": 8,
      "outputs": []
    },
    {
      "cell_type": "code",
      "source": [
        "X = []\n",
        "sentences = list(movie_reviews['review'])\n",
        "for sen in sentences:\n",
        "    X.append(preprocess_text(sen))\n",
        "\n",
        "# replace the positive with 1, replace the negative with 0\n",
        "y = movie_reviews['sentiment']\n",
        "y = np.array(list(map(lambda x: 1 if x == \"positive\" else 0, y)))"
      ],
      "metadata": {
        "id": "RmXD470bvszU"
      },
      "execution_count": 9,
      "outputs": []
    },
    {
      "cell_type": "code",
      "source": [
        "# Split the training dataset and test dataset\n",
        "X_train, X_test, y_train, y_test = train_test_split(X, y, test_size=0.20, random_state=42)\n",
        "print(\"# training data: {:d}\\n# test data: {:d}\".format(len(X_train), len(X_test)))"
      ],
      "metadata": {
        "colab": {
          "base_uri": "https://localhost:8080/"
        },
        "id": "meDSxgmtvubz",
        "outputId": "735750b8-bbe3-4a27-9dea-9cdd4607543f"
      },
      "execution_count": 10,
      "outputs": [
        {
          "output_type": "stream",
          "name": "stdout",
          "text": [
            "# training data: 40000\n",
            "# test data: 10000\n"
          ]
        }
      ]
    },
    {
      "cell_type": "code",
      "source": [
        "tokenizer = tf.keras.preprocessing.text.Tokenizer(num_words=10000)\n",
        "tokenizer.fit_on_texts(X_train)\n",
        "\n",
        "X_train = tokenizer.texts_to_sequences(X_train)\n",
        "X_test = tokenizer.texts_to_sequences(X_test)\n",
        "\n",
        "max_len = 100\n",
        "# padding sentences to the same length\n",
        "X_train = tf.keras.preprocessing.sequence.pad_sequences(X_train, padding='post', maxlen=max_len)\n",
        "X_test = tf.keras.preprocessing.sequence.pad_sequences(X_test, padding='post', maxlen=max_len)"
      ],
      "metadata": {
        "id": "kIqJMJpYvwJL"
      },
      "execution_count": 11,
      "outputs": []
    },
    {
      "cell_type": "code",
      "source": [
        "# show the preprocessed data\n",
        "X_train[0]"
      ],
      "metadata": {
        "colab": {
          "base_uri": "https://localhost:8080/"
        },
        "id": "qPcL1PVuwIyz",
        "outputId": "190f4e3e-7526-435e-d2da-06595e881720"
      },
      "execution_count": 12,
      "outputs": [
        {
          "output_type": "execute_result",
          "data": {
            "text/plain": [
              "array([   1,  296,  140, 2854,    2,  405,  614,    1,  263,    5, 3514,\n",
              "        977,    4,   25,   37,   11, 1237,  215,   62,    2,   35,    5,\n",
              "         27,  217,   24,  189, 1430,    7, 1068,   15, 4868,   81,    1,\n",
              "        221,   63,  351,   64,   52,   24,    4, 3547,   13,    6,   19,\n",
              "        192,    4, 8148,  859, 3430, 1720,   17,   23,    4,  158,  194,\n",
              "        175,  106,    9, 1604,  461,   71,  218,    4,  321,    2, 3431,\n",
              "         31,   20,   47,   68, 1844, 4668,   11,    6, 1365,    8,   16,\n",
              "          5, 3475, 1990,   14,   59,    1, 2380,  460,  518,    2,  170,\n",
              "       2524, 2698, 1745,    4,  573,    6,   33,    1, 3750,  198,  345,\n",
              "       3812], dtype=int32)"
            ]
          },
          "metadata": {},
          "execution_count": 12
        }
      ]
    },
    {
      "cell_type": "code",
      "source": [
        "BUFFER_SIZE = len(X_train)\n",
        "BATCH_SIZE = 128\n",
        "steps_per_epoch = len(X_train)//BATCH_SIZE\n",
        "embedding_dim = 256\n",
        "units = 1024\n",
        "# only reserve 10000 words\n",
        "vocab_size = 10000\n",
        "\n",
        "dataset = tf.data.Dataset.from_tensor_slices((X_train, y_train)).shuffle(BUFFER_SIZE)\n",
        "dataset = dataset.batch(BATCH_SIZE, drop_remainder=True)\n",
        "test_dataset = tf.data.Dataset.from_tensor_slices((X_test, y_test))\n",
        "test_dataset = test_dataset.batch(BATCH_SIZE, drop_remainder=False)\n",
        "\n",
        "example_input_batch, example_target_batch = next(iter(dataset))\n",
        "example_input_batch.shape, example_target_batch.shape"
      ],
      "metadata": {
        "colab": {
          "base_uri": "https://localhost:8080/"
        },
        "id": "vT1lbAPewKwq",
        "outputId": "53100df8-f8df-4908-e240-70c9a868ac58"
      },
      "execution_count": 13,
      "outputs": [
        {
          "output_type": "execute_result",
          "data": {
            "text/plain": [
              "(TensorShape([128, 100]), TensorShape([128]))"
            ]
          },
          "metadata": {},
          "execution_count": 13
        }
      ]
    },
    {
      "cell_type": "code",
      "source": [
        "class Encoder(tf.keras.Model):\n",
        "    def __init__(self, vocab_size, embedding_dim, enc_units, batch_sz):\n",
        "        # vacab_size=10000, embedding_dim=256 enc_units=1024 batch_sz=64\n",
        "        super(Encoder, self).__init__()\n",
        "        self.batch_sz = batch_sz\n",
        "        self.enc_units = enc_units\n",
        "        self.embedding = tf.keras.layers.Embedding(vocab_size, embedding_dim)\n",
        "        self.gru = tf.keras.layers.GRU(self.enc_units,\n",
        "                                       return_sequences=True,\n",
        "                                       return_state=True,\n",
        "                                       recurrent_activation='sigmoid',\n",
        "                                       recurrent_initializer='glorot_uniform')\n",
        "\n",
        "    def call(self, x, hidden):\n",
        "        # x is the training data with shape == (batch_size，max_length)  -> (128, 100)\n",
        "        # which means there are batch_size sentences in one batch, the length of each sentence is max_length\n",
        "        # hidden state shape == (batch_size, units) -> (128, 1024)\n",
        "        # after embedding, x shape == (batch_size, max_length, embedding_dim) -> (128, 100, 256)\n",
        "        x = self.embedding(x)\n",
        "\n",
        "        # output contains the state(in GRU, the hidden state and the output are same) from all timestamps,\n",
        "        # output shape == (batch_size, max_length, units) -> (128, 100, 1024)\n",
        "        # state is the hidden state of the last timestamp, shape == (batch_size, units) -> (128, 1024)\n",
        "        output, state = self.gru(x, initial_state=hidden)\n",
        "\n",
        "        return output, state\n",
        "\n",
        "    def initialize_hidden_state(self):\n",
        "        # initialize the first state of the gru,  shape == (batch_size, units) -> (128, 1024)\n",
        "        return tf.zeros((self.batch_sz, self.enc_units))"
      ],
      "metadata": {
        "id": "pRMQAf98wSwd"
      },
      "execution_count": 14,
      "outputs": []
    },
    {
      "cell_type": "code",
      "source": [
        "encoder = Encoder(vocab_size, embedding_dim, units, BATCH_SIZE)\n",
        "\n",
        "# sample input\n",
        "sample_hidden = encoder.initialize_hidden_state()\n",
        "sample_output, sample_hidden = encoder(example_input_batch, sample_hidden)\n",
        "print('Encoder output shape: (batch size, sequence length, units) {}'.format(sample_output.shape))\n",
        "print('Encoder Hidden state shape: (batch size, units) {}'.format(sample_hidden.shape))\n",
        "# the output and the hidden state of GRU is equal\n",
        "print(sample_output[-1, -1, :] == sample_hidden[-1, :])"
      ],
      "metadata": {
        "colab": {
          "base_uri": "https://localhost:8080/"
        },
        "id": "-HleQMgjwUGF",
        "outputId": "aee7933a-0a2b-4799-f529-2a9b10263b38"
      },
      "execution_count": 15,
      "outputs": [
        {
          "output_type": "stream",
          "name": "stdout",
          "text": [
            "Encoder output shape: (batch size, sequence length, units) (128, 100, 1024)\n",
            "Encoder Hidden state shape: (batch size, units) (128, 1024)\n",
            "tf.Tensor([ True  True  True ...  True  True  True], shape=(1024,), dtype=bool)\n"
          ]
        }
      ]
    },
    {
      "cell_type": "code",
      "source": [
        "class LuongAttention(tf.keras.Model):\n",
        "    def __init__(self, units):\n",
        "        super(LuongAttention, self).__init__()\n",
        "        # TODO: Complete the function.\n",
        "        self.W = tf.keras.layers.Dense(units)\n",
        "\n",
        "\n",
        "    def call(self, query, values):\n",
        "        # TODO: Implement the Luong attention.\n",
        "        hidden_with_time_axis = tf.expand_dims(query, 1)\n",
        "        score = tf.matmul(self.W(values),tf.transpose(hidden_with_time_axis, perm=[0, 2, 1]))\n",
        "        attention_weights = tf.nn.softmax(score, axis=1)\n",
        "        context_vector = attention_weights * values\n",
        "        context_vector = tf.reduce_sum(context_vector, axis=1)\n",
        "        return context_vector, attention_weights\n",
        ""
      ],
      "metadata": {
        "id": "8BIeToN6wY3z"
      },
      "execution_count": 16,
      "outputs": []
    },
    {
      "cell_type": "code",
      "source": [
        "class Decoder(tf.keras.Model):\n",
        "    def __init__(self, dec_units, batch_sz):\n",
        "        super(Decoder, self).__init__()\n",
        "        self.batch_sz = batch_sz\n",
        "        self.dec_units = dec_units\n",
        "\n",
        "        # pass through four fully connected layers, the model will return\n",
        "        # the probability of the positivity of the sentence\n",
        "        self.fc_1 = tf.keras.layers.Dense(2048)\n",
        "        self.fc_2 = tf.keras.layers.Dense(512)\n",
        "        self.fc_3 = tf.keras.layers.Dense(64)\n",
        "        self.fc_4 = tf.keras.layers.Dense(1)\n",
        "\n",
        "        # used for attention\n",
        "        self.attention = LuongAttention(self.dec_units)\n",
        "\n",
        "    def call(self, hidden, enc_output):\n",
        "        context_vector, attention_weights = self.attention(hidden, enc_output)\n",
        "        output = self.fc_1(context_vector)\n",
        "        output = self.fc_2(output)\n",
        "        output = self.fc_3(output)\n",
        "        output = self.fc_4(output)\n",
        "\n",
        "        return output, attention_weights"
      ],
      "metadata": {
        "id": "_Oj3hjOiwhF7"
      },
      "execution_count": 17,
      "outputs": []
    },
    {
      "cell_type": "code",
      "source": [
        "decoder = Decoder(units, BATCH_SIZE)\n",
        "sample_decoder_output, _ = decoder(sample_hidden, sample_output)\n",
        "print('Decoder output shape: (batch_size, vocab size) {}'.format(sample_decoder_output.shape))"
      ],
      "metadata": {
        "colab": {
          "base_uri": "https://localhost:8080/"
        },
        "id": "ZsRChaXhwjer",
        "outputId": "776e4077-2c9f-4994-fef1-70f2e1fdfeb4"
      },
      "execution_count": 18,
      "outputs": [
        {
          "output_type": "stream",
          "name": "stdout",
          "text": [
            "Decoder output shape: (batch_size, vocab size) (128, 1)\n"
          ]
        }
      ]
    },
    {
      "cell_type": "code",
      "source": [
        "optimizer = tf.keras.optimizers.Adam()\n",
        "loss_object = tf.keras.losses.BinaryCrossentropy(from_logits=True)\n",
        "\n",
        "def loss_function(real, pred):\n",
        "    loss_ = loss_object(real, pred)\n",
        "    return tf.reduce_mean(loss_)"
      ],
      "metadata": {
        "id": "Oha-6pDmwkeu"
      },
      "execution_count": 19,
      "outputs": []
    },
    {
      "cell_type": "code",
      "source": [
        "checkpoint_dir = './checkpoints/sentiment-analysis'\n",
        "checkpoint_prefix = os.path.join(checkpoint_dir, \"ckpt\")\n",
        "checkpoint = tf.train.Checkpoint(optimizer=optimizer,\n",
        "                                 encoder=encoder,\n",
        "                                 decoder=decoder)"
      ],
      "metadata": {
        "id": "QhURvRj_wlqs"
      },
      "execution_count": 20,
      "outputs": []
    },
    {
      "cell_type": "code",
      "source": [
        "@tf.function\n",
        "def train_step(inp, targ, enc_hidden):\n",
        "    loss = 0\n",
        "\n",
        "    with tf.GradientTape() as tape:\n",
        "\n",
        "        enc_output, enc_hidden = encoder(inp, enc_hidden)\n",
        "        # passing enc_output to the decoder\n",
        "        predictions, _ = decoder(enc_hidden, enc_output)\n",
        "\n",
        "        loss = loss_function(targ, predictions)\n",
        "\n",
        "    # collect all trainable variables\n",
        "    variables = encoder.trainable_variables + decoder.trainable_variables\n",
        "\n",
        "    # calculate the gradients for the whole variables\n",
        "    gradients = tape.gradient(loss, variables)\n",
        "\n",
        "    # apply the gradients on the variables\n",
        "    optimizer.apply_gradients(zip(gradients, variables))\n",
        "\n",
        "    return loss"
      ],
      "metadata": {
        "id": "VK7UGHCrwomj"
      },
      "execution_count": 21,
      "outputs": []
    },
    {
      "cell_type": "code",
      "source": [
        "# set the epochs for training\n",
        "EPOCHS = 10\n",
        "tf.compat.v1.enable_eager_execution()\n",
        "for epoch in range(EPOCHS):\n",
        "    start = time.time()\n",
        "\n",
        "    # get the initial hidden state of gru\n",
        "    enc_hidden = encoder.initialize_hidden_state()\n",
        "    total_loss = 0\n",
        "\n",
        "    for (batch, (inp, targ)) in enumerate(dataset.take(steps_per_epoch)):\n",
        "        batch_loss = train_step(inp, targ, enc_hidden)\n",
        "        total_loss += batch_loss\n",
        "\n",
        "        if batch % 100 == 0:\n",
        "            print('Epoch {} Batch {} Loss {:.4f}'.format(epoch + 1,\n",
        "                                                         batch,\n",
        "                                                         batch_loss.numpy()))\n",
        "\n",
        "    # saving (checkpoint) the model every 2 epochs\n",
        "    if (epoch + 1) % 2 == 0:\n",
        "        checkpoint.save(file_prefix=checkpoint_prefix)\n",
        "\n",
        "    print('Epoch {} Loss {:.4f}'.format(epoch + 1,\n",
        "                                        total_loss / steps_per_epoch))\n",
        "    print('Time taken for 1 epoch {} sec\\n'.format(time.time() - start))"
      ],
      "metadata": {
        "colab": {
          "base_uri": "https://localhost:8080/"
        },
        "id": "Hm1F0QKKwtcb",
        "outputId": "c386fc40-6837-4c74-9c49-f418f0a5a8d2"
      },
      "execution_count": 22,
      "outputs": [
        {
          "output_type": "stream",
          "name": "stdout",
          "text": [
            "Epoch 1 Batch 0 Loss 0.6936\n",
            "Epoch 1 Batch 100 Loss 0.4123\n",
            "Epoch 1 Batch 200 Loss 0.3062\n",
            "Epoch 1 Batch 300 Loss 0.2675\n",
            "Epoch 1 Loss 0.3896\n",
            "Time taken for 1 epoch 53.037187814712524 sec\n",
            "\n",
            "Epoch 2 Batch 0 Loss 0.2607\n",
            "Epoch 2 Batch 100 Loss 0.2596\n",
            "Epoch 2 Batch 200 Loss 0.3036\n",
            "Epoch 2 Batch 300 Loss 0.2503\n",
            "Epoch 2 Loss 0.2568\n",
            "Time taken for 1 epoch 44.107325315475464 sec\n",
            "\n",
            "Epoch 3 Batch 0 Loss 0.1504\n",
            "Epoch 3 Batch 100 Loss 0.1956\n",
            "Epoch 3 Batch 200 Loss 0.2133\n",
            "Epoch 3 Batch 300 Loss 0.2487\n",
            "Epoch 3 Loss 0.1898\n",
            "Time taken for 1 epoch 43.61860799789429 sec\n",
            "\n",
            "Epoch 4 Batch 0 Loss 0.1154\n",
            "Epoch 4 Batch 100 Loss 0.0895\n",
            "Epoch 4 Batch 200 Loss 0.0859\n",
            "Epoch 4 Batch 300 Loss 0.3268\n",
            "Epoch 4 Loss 0.1304\n",
            "Time taken for 1 epoch 43.18501019477844 sec\n",
            "\n",
            "Epoch 5 Batch 0 Loss 0.0834\n",
            "Epoch 5 Batch 100 Loss 0.0543\n",
            "Epoch 5 Batch 200 Loss 0.1063\n",
            "Epoch 5 Batch 300 Loss 0.1451\n",
            "Epoch 5 Loss 0.0829\n",
            "Time taken for 1 epoch 42.91421937942505 sec\n",
            "\n",
            "Epoch 6 Batch 0 Loss 0.0356\n",
            "Epoch 6 Batch 100 Loss 0.0798\n",
            "Epoch 6 Batch 200 Loss 0.1013\n",
            "Epoch 6 Batch 300 Loss 0.0300\n",
            "Epoch 6 Loss 0.0604\n",
            "Time taken for 1 epoch 43.35649394989014 sec\n",
            "\n",
            "Epoch 7 Batch 0 Loss 0.0415\n",
            "Epoch 7 Batch 100 Loss 0.0196\n",
            "Epoch 7 Batch 200 Loss 0.0093\n",
            "Epoch 7 Batch 300 Loss 0.1114\n",
            "Epoch 7 Loss 0.0444\n",
            "Time taken for 1 epoch 42.70770740509033 sec\n",
            "\n",
            "Epoch 8 Batch 0 Loss 0.0354\n",
            "Epoch 8 Batch 100 Loss 0.0398\n",
            "Epoch 8 Batch 200 Loss 0.0472\n",
            "Epoch 8 Batch 300 Loss 0.0559\n",
            "Epoch 8 Loss 0.0341\n",
            "Time taken for 1 epoch 42.90443682670593 sec\n",
            "\n",
            "Epoch 9 Batch 0 Loss 0.0214\n",
            "Epoch 9 Batch 100 Loss 0.0092\n",
            "Epoch 9 Batch 200 Loss 0.0516\n",
            "Epoch 9 Batch 300 Loss 0.0205\n",
            "Epoch 9 Loss 0.0304\n",
            "Time taken for 1 epoch 42.75378489494324 sec\n",
            "\n",
            "Epoch 10 Batch 0 Loss 0.0107\n",
            "Epoch 10 Batch 100 Loss 0.0280\n",
            "Epoch 10 Batch 200 Loss 0.0087\n",
            "Epoch 10 Batch 300 Loss 0.0296\n",
            "Epoch 10 Loss 0.0258\n",
            "Time taken for 1 epoch 42.57288479804993 sec\n",
            "\n"
          ]
        }
      ]
    },
    {
      "cell_type": "code",
      "source": [
        "print(tf.train.latest_checkpoint(checkpoint_dir))\n",
        "# restoring the latest checkpoint in checkpoint_dir\n",
        "checkpoint.restore(tf.train.latest_checkpoint(checkpoint_dir))"
      ],
      "metadata": {
        "colab": {
          "base_uri": "https://localhost:8080/"
        },
        "id": "aqOsC8J-wu8j",
        "outputId": "b8ea1f1b-3b4b-44e9-e7ea-bcc51519c24e"
      },
      "execution_count": 23,
      "outputs": [
        {
          "output_type": "stream",
          "name": "stdout",
          "text": [
            "./checkpoints/sentiment-analysis/ckpt-5\n"
          ]
        },
        {
          "output_type": "execute_result",
          "data": {
            "text/plain": [
              "<tensorflow.python.checkpoint.checkpoint.CheckpointLoadStatus at 0x7fb718362380>"
            ]
          },
          "metadata": {},
          "execution_count": 23
        }
      ]
    },
    {
      "cell_type": "code",
      "source": [
        "@tf.function\n",
        "def test_step(inp, enc_hidden):\n",
        "    with tf.GradientTape() as tape:\n",
        "        enc_output, enc_hidden = encoder(inp, enc_hidden)\n",
        "        predictions, attention_weights = decoder(enc_hidden, enc_output)\n",
        "    return predictions, attention_weights"
      ],
      "metadata": {
        "id": "f0i8fyWuwv8U"
      },
      "execution_count": 24,
      "outputs": []
    },
    {
      "cell_type": "code",
      "source": [
        "def evaluate(test_data):\n",
        "    enc_hidden = encoder.initialize_hidden_state()\n",
        "\n",
        "    for batch, (inp, targ) in enumerate(test_data):\n",
        "        if len(inp) != BATCH_SIZE:\n",
        "            enc_hidden = tf.zeros((len(inp), units))\n",
        "        # make prediction\n",
        "        if batch == 0:\n",
        "            predictions, attention_weights = test_step(inp, enc_hidden)\n",
        "            predictions, attention_weights = predictions.numpy(), attention_weights.numpy()\n",
        "        else:\n",
        "            _predictions, _attention_weights = test_step(inp, enc_hidden)\n",
        "            _predictions, _attention_weights = _predictions.numpy(), _attention_weights.numpy()\n",
        "            predictions = np.concatenate((predictions, _predictions))\n",
        "            attention_weights = np.concatenate((attention_weights, _attention_weights))\n",
        "\n",
        "    predictions = np.squeeze(predictions)\n",
        "    attention_weights = np.squeeze(attention_weights)\n",
        "    predictions[np.where(predictions < 0.5)] = 0\n",
        "    predictions[np.where(predictions >= 0.5)] = 1\n",
        "    return predictions, attention_weights"
      ],
      "metadata": {
        "id": "bfalhDV2wxxk"
      },
      "execution_count": 25,
      "outputs": []
    },
    {
      "cell_type": "code",
      "source": [
        "y_pred, attention_weights = evaluate(test_dataset)"
      ],
      "metadata": {
        "id": "XeMCqbeIwzpj"
      },
      "execution_count": 26,
      "outputs": []
    },
    {
      "cell_type": "code",
      "source": [
        "print('Accuracy: ', (y_pred == y_test).sum() / len(y_test))"
      ],
      "metadata": {
        "colab": {
          "base_uri": "https://localhost:8080/"
        },
        "id": "6F0cNTbbw0tD",
        "outputId": "372521a6-44e1-4c0d-ce5f-d6bc10ff21c0"
      },
      "execution_count": 27,
      "outputs": [
        {
          "output_type": "stream",
          "name": "stdout",
          "text": [
            "Accuracy:  0.8366\n"
          ]
        }
      ]
    },
    {
      "cell_type": "code",
      "source": [
        "from termcolor import colored\n",
        "for idx, data in enumerate(X_test[:10]):\n",
        "    print('y_true: {:d}'.format(y_test[idx]))\n",
        "    print('y_predict: {:.0f}'.format(y_pred[idx]))\n",
        "\n",
        "    # get the twenty most largest attention weights\n",
        "    large_weights_idx = np.argsort(attention_weights[idx])[::-1][:10]\n",
        "\n",
        "    for _idx in range(len(data)):\n",
        "        word_idx = data[_idx]\n",
        "        if word_idx != 0:\n",
        "            if _idx in large_weights_idx:\n",
        "                #print(colored(tokenizer.index_word[word_idx], 'red'), end=' ')\n",
        "                # try this if termcolor is not working properly\n",
        "                print(f'\\033[31m{tokenizer.index_word[word_idx]}\\033[0m', end=' ')\n",
        "            else:\n",
        "                print(tokenizer.index_word[word_idx], end=' ')\n",
        "    print(\"\\n\\n\")"
      ],
      "metadata": {
        "colab": {
          "base_uri": "https://localhost:8080/"
        },
        "id": "CUR8HGa8w2IH",
        "outputId": "4aae398d-8d77-4277-8424-18512f81e900"
      },
      "execution_count": 29,
      "outputs": [
        {
          "output_type": "stream",
          "name": "stdout",
          "text": [
            "y_true: 1\n",
            "y_predict: 0\n",
            "\u001b[31mchanged\u001b[0m it was terrible main \u001b[31mevent\u001b[0m just like every match is in is terrible other matches on the card \u001b[31mwere\u001b[0m \u001b[31mrazor\u001b[0m \u001b[31mramon\u001b[0m \u001b[31mvs\u001b[0m ted brothers vs bodies shawn michaels \u001b[31mvs\u001b[0m this was the event where shawn named his big monster of body guard \u001b[31mvs\u001b[0m kid hart first takes on then takes on jerry and stuff with the and was always very interesting then destroyed \u001b[31mmarty\u001b[0m \u001b[31mundertaker\u001b[0m took on giant in another terrible match the smoking and took on bam bam and the and the world title against lex this match was boring and it has terrible ending however it deserves \n",
            "\n",
            "\n",
            "y_true: 1\n",
            "y_predict: 1\n",
            "of subject matter as are and broken in many ways on many many issues \u001b[31mhappened\u001b[0m \u001b[31mto\u001b[0m \u001b[31msee\u001b[0m the pilot premiere in passing and just had to keep in after that to see if would ever get the girl after seeing them all on television was delighted to see them \u001b[31mavailable\u001b[0m on \u001b[31mdvd\u001b[0m have to admit that it was the only thing that \u001b[31mkept\u001b[0m \u001b[31mme\u001b[0m sane \u001b[31mwhilst\u001b[0m had to do hour night \u001b[31mshift\u001b[0m \u001b[31mand\u001b[0m developed insomnia farscape was the only thing to get me through those extremely long nights do yourself favour watch the pilot and see what mean farscape comet \n",
            "\n",
            "\n",
            "y_true: 0\n",
            "y_predict: 0\n",
            "destruction the first really bad thing is the guy steven \u001b[31mseagal\u001b[0m \u001b[31mwould\u001b[0m \u001b[31mhave\u001b[0m been beaten to pulp by \u001b[31mseagal\u001b[0m \u001b[31mdriving\u001b[0m but that probably would have ended the whole premise for the movie it seems like they decided to make all kinds of changes in the movie plot so just \u001b[31mplan\u001b[0m \u001b[31mto\u001b[0m enjoy the action and do not expect coherent plot turn any sense of \u001b[31mlogic\u001b[0m you may have it will your chance of getting \u001b[31mheadache\u001b[0m does give me some hope that steven \u001b[31mseagal\u001b[0m is trying to move back towards the type of characters he portrayed in his more popular movies \n",
            "\n",
            "\n",
            "y_true: 1\n",
            "y_predict: 1\n",
            "jane austen would definitely of this one paltrow does an awesome job capturing the attitude of emma she is funny without being silly yet elegant she puts on very convincing british accent not being british myself maybe m not the best judge but she fooled me she was \u001b[31malso\u001b[0m \u001b[31mexcellent\u001b[0m \u001b[31min\u001b[0m doors sometimes forget she american also brilliant are \u001b[31mjeremy\u001b[0m \u001b[31mnortham\u001b[0m \u001b[31mand\u001b[0m sophie thompson and law emma thompson sister and mother as the bates \u001b[31mwomen\u001b[0m they nearly steal the show and ms law doesn even have any \u001b[31mlines\u001b[0m highly \u001b[31mrecommended\u001b[0m \n",
            "\n",
            "\n",
            "y_true: 0\n",
            "y_predict: 0\n",
            "reaches the point where they become obnoxious and simply \u001b[31mfrustrating\u001b[0m touch football puzzle family and talent shows are not how actual people \u001b[31mbehave\u001b[0m it almost sickening another big flaw is the woman carell is supposed to be falling \u001b[31mfor\u001b[0m her in her first scene with steve carell is like watching stroke victim trying to \u001b[31mbe\u001b[0m what imagine is \u001b[31msupposed\u001b[0m \u001b[31mto\u001b[0m \u001b[31mbe\u001b[0m unique and original in this woman comes \u001b[31moff\u001b[0m as mildly retarded \u001b[31mit\u001b[0m makes me think that this movie is taking place on another planet left the theater wondering what just saw after thinking \u001b[31mfurther\u001b[0m don think it was much \n",
            "\n",
            "\n",
            "y_true: 1\n",
            "y_predict: 1\n",
            "the pace quick and \u001b[31menergetic\u001b[0m but \u001b[31mmost\u001b[0m importantly he knows how to make comedy funny he doesn the jokes and he understands that funny actors know what they re doing and he allows them to do it but segal goes step further he gives tommy \u001b[31mboy\u001b[0m \u001b[31mfriendly\u001b[0m almost nostalgic \u001b[31mtone\u001b[0m \u001b[31mthat\u001b[0m both the genuinely and the critics didn like tommy \u001b[31mboy\u001b[0m shame on them movie doesn have to be super sophisticated or intellectual to be funny god \u001b[31mfarley\u001b[0m \u001b[31mand\u001b[0m \u001b[31mspade\u001b[0m were forced to do muted comedy la the office this is great movie and one of my all time favorites \n",
            "\n",
            "\n",
            "y_true: 1\n",
            "y_predict: 1\n",
            "for once story of hope over the tragic reality our youth face rising draws one into scary and unfair world and shows through beautiful color and moving music how one man and his dedicated friends choose not to accept that world and change it through action and art an \u001b[31mentertaining\u001b[0m interesting \u001b[31memotional\u001b[0m beautiful film \u001b[31mshowed\u001b[0m \u001b[31mthis\u001b[0m \u001b[31mfilm\u001b[0m to numerous high school students \u001b[31mas\u001b[0m \u001b[31mwell\u001b[0m who all live in with poverty \u001b[31mand\u001b[0m and gun violence and they were with \u001b[31manderson\u001b[0m the protagonist recommend this film to all \u001b[31mages\u001b[0m over due to subtitles and some images of death from all backgrounds \n",
            "\n",
            "\n",
            "y_true: 1\n",
            "y_predict: 1\n",
            "people and \u001b[31msleeping\u001b[0m \u001b[31maround\u001b[0m that he \u001b[31mkept\u001b[0m secret \u001b[31mfrom\u001b[0m \u001b[31mmost\u001b[0m people he feels \u001b[31mfree\u001b[0m to have an \u001b[31maffair\u001b[0m with quasi because he kevin he figures out that he can fool some people with cards like hotel but it won get him out of those the of heaven are keeping track of him and everything he does after reading all the theories on though it seems like identity is reminder of the different \u001b[31mpaths\u001b[0m tony could \u001b[31mve\u001b[0m taken in his life possibly along with the car joke involving \u001b[31mthat\u001b[0m made no sense to me otherwise at that point my brain out \n",
            "\n",
            "\n",
            "y_true: 0\n",
            "y_predict: 0\n",
            "over again can remember how many times he said the universe is made out of tiny little \u001b[31mstrings\u001b[0m it like they were trying to us into just \u001b[31maccepting\u001b[0m \u001b[31mare\u001b[0m the best thing since bread finally the show ended off with an unpleasant sense of \u001b[31mcompetition\u001b[0m between and clearly biased towards this is \u001b[31msupposed\u001b[0m to be an educational \u001b[31mprogram\u001b[0m about \u001b[31mquantum\u001b[0m physics not about whether the us is better than \u001b[31meurope\u001b[0m or vice versa also felt that was part of the audiences need to see some conflict to remain interested please give me little more \u001b[31mcredit\u001b[0m \u001b[31mthan\u001b[0m that overall thumbs down \n",
            "\n",
            "\n",
            "y_true: 0\n",
            "y_predict: 0\n",
            "the scenes involving \u001b[31mjoe\u001b[0m character in particular the scenes in the terribly clich but still funny \u001b[31mrich\u001b[0m but screwed up characters house \u001b[31mwhere\u001b[0m the story towards it final moments can see how was \u001b[31mgreat\u001b[0m stage \u001b[31mplay\u001b[0m and while the film makers did their best to \u001b[31mtranslate\u001b[0m this to celluloid it simply didn work and while laughed \u001b[31mout\u001b[0m loud at \u001b[31msome\u001b[0m of scenes and \u001b[31mone\u001b[0m liners think the first minutes my senses and expectations to such degree would have laughed at anything unless you re stuck for novelty coffee coaster don \u001b[31mpick\u001b[0m this up if you see it in bargain bucket \n",
            "\n",
            "\n"
          ]
        }
      ]
    }
  ]
}
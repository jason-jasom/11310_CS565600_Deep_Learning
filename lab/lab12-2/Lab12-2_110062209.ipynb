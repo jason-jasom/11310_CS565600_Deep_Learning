{
  "nbformat": 4,
  "nbformat_minor": 0,
  "metadata": {
    "colab": {
      "provenance": [],
      "gpuType": "T4"
    },
    "kernelspec": {
      "name": "python3",
      "display_name": "Python 3"
    },
    "language_info": {
      "name": "python"
    },
    "accelerator": "GPU"
  },
  "cells": [
    {
      "cell_type": "code",
      "source": [
        "!pip uninstall tensorflow -y\n",
        "!pip install tensorflow==2.15.1"
      ],
      "metadata": {
        "id": "5MQBIL8NDtAG"
      },
      "execution_count": null,
      "outputs": []
    },
    {
      "cell_type": "code",
      "source": [
        "!gdown --id 19yR6-qVYJ6gQ-3HuXEOxjf-ZeaWJJruh\n",
        "!unzip -qq -u words_captcha.zip"
      ],
      "metadata": {
        "id": "VdKld28RmyEb",
        "colab": {
          "base_uri": "https://localhost:8080/"
        },
        "outputId": "82a3bdd1-b73e-46c3-9215-5fc31e7de112"
      },
      "execution_count": 2,
      "outputs": [
        {
          "output_type": "stream",
          "name": "stdout",
          "text": [
            "/usr/local/lib/python3.10/dist-packages/gdown/__main__.py:140: FutureWarning: Option `--id` was deprecated in version 4.3.1 and will be removed in 5.0. You don't need to pass it anymore to use a file ID.\n",
            "  warnings.warn(\n",
            "Downloading...\n",
            "From (original): https://drive.google.com/uc?id=19yR6-qVYJ6gQ-3HuXEOxjf-ZeaWJJruh\n",
            "From (redirected): https://drive.google.com/uc?id=19yR6-qVYJ6gQ-3HuXEOxjf-ZeaWJJruh&confirm=t&uuid=a2db0f94-5974-4605-8fc8-d054bc2f456f\n",
            "To: /content/words_captcha.zip\n",
            "100% 4.57G/4.57G [00:51<00:00, 89.6MB/s]\n"
          ]
        }
      ]
    },
    {
      "cell_type": "code",
      "execution_count": 3,
      "metadata": {
        "id": "_fU7p13OW85X",
        "colab": {
          "base_uri": "https://localhost:8080/"
        },
        "outputId": "de987b94-1abb-49d5-985a-a5464d1534fc"
      },
      "outputs": [
        {
          "output_type": "stream",
          "name": "stdout",
          "text": [
            "1 Physical GPUs, 1 Logical GPUs\n"
          ]
        }
      ],
      "source": [
        "import tensorflow as tf\n",
        "gpus = tf.config.experimental.list_physical_devices('GPU')\n",
        "if gpus:\n",
        "    try:\n",
        "        # Currently, memory growth needs to be the same across GPUs\n",
        "        for gpu in gpus:\n",
        "            tf.config.experimental.set_memory_growth(gpu, True)\n",
        "        tf.config.experimental.set_visible_devices(gpus[0], 'GPU')\n",
        "        logical_gpus = tf.config.experimental.list_logical_devices('GPU')\n",
        "        print(len(gpus), \"Physical GPUs,\", len(logical_gpus), \"Logical GPUs\")\n",
        "    except RuntimeError as e:\n",
        "        # Memory growth must be set before GPUs have been initialized\n",
        "        print(e)"
      ]
    },
    {
      "cell_type": "code",
      "source": [
        "# You'll generate plots of attention in order to see which parts of an image\n",
        "# our model focuses on during captioning\n",
        "import matplotlib.pyplot as plt\n",
        "\n",
        "# Scikit-learn includes many helpful utilities\n",
        "from sklearn.model_selection import train_test_split\n",
        "from sklearn.utils import shuffle\n",
        "from tqdm import tqdm\n",
        "import re\n",
        "import numpy as np\n",
        "import os\n",
        "import time\n",
        "import json\n",
        "from glob import glob\n",
        "from PIL import Image\n",
        "import pickle\n",
        "IMAGE_SIZE = 224"
      ],
      "metadata": {
        "id": "PJCCSAl6XFbl"
      },
      "execution_count": 4,
      "outputs": []
    },
    {
      "cell_type": "code",
      "source": [
        "# Store captions and image names in vectors\n",
        "train_captions = []\n",
        "img_name_vector = []\n",
        "\n",
        "PATH = './words_captcha/'\n",
        "with open(PATH + 'spec_train_val.txt', 'r') as f:\n",
        "    for line in f:\n",
        "        image_name, caption = line.split(' ')\n",
        "        full_image_path = PATH + image_name + '.png'\n",
        "        caption = '<start> ' + ' '.join(caption) + ' <end>'\n",
        "        img_name_vector.append(full_image_path)\n",
        "        train_captions.append(caption)"
      ],
      "metadata": {
        "id": "YPDELcmYYazL"
      },
      "execution_count": 5,
      "outputs": []
    },
    {
      "cell_type": "markdown",
      "source": [
        "image_features_extract_model使用yolo的extractor部分"
      ],
      "metadata": {
        "id": "fVo5iVuV-3Xt"
      }
    },
    {
      "cell_type": "code",
      "source": [
        "from tensorflow import keras\n",
        "from tensorflow.keras import layers"
      ],
      "metadata": {
        "id": "MRzuW2Vd-GUV"
      },
      "execution_count": 6,
      "outputs": []
    },
    {
      "cell_type": "code",
      "source": [
        "def conv_leaky_relu(inputs, filters, size, stride):\n",
        "    x = layers.Conv2D(filters, size, stride, padding=\"same\",\n",
        "                      kernel_initializer=tf.keras.initializers.TruncatedNormal())(inputs)\n",
        "    x = layers.LeakyReLU(0.1)(x)\n",
        "\n",
        "    return x"
      ],
      "metadata": {
        "id": "YqdiuTAq-E2-"
      },
      "execution_count": 7,
      "outputs": []
    },
    {
      "cell_type": "code",
      "source": [
        "img_inputs = keras.Input(shape=(IMAGE_SIZE, IMAGE_SIZE, 3))\n",
        "x = conv_leaky_relu(img_inputs, 64, 7, 2)\n",
        "x = layers.MaxPool2D()(x)\n",
        "x = conv_leaky_relu(x, 192, 3, 1)\n",
        "x = layers.MaxPool2D()(x)\n",
        "x = conv_leaky_relu(x, 128, 1, 1)\n",
        "x = conv_leaky_relu(x, 256, 3, 1)\n",
        "x = conv_leaky_relu(x, 256, 1, 1)\n",
        "x = conv_leaky_relu(x, 512, 3, 1)\n",
        "x = layers.MaxPool2D()(x)\n",
        "x = conv_leaky_relu(x, 256, 1, 1)\n",
        "x = conv_leaky_relu(x, 512, 3, 1)\n",
        "x = conv_leaky_relu(x, 256, 1, 1)\n",
        "x = conv_leaky_relu(x, 512, 3, 1)\n",
        "x = conv_leaky_relu(x, 256, 1, 1)\n",
        "x = conv_leaky_relu(x, 512, 3, 1)\n",
        "x = conv_leaky_relu(x, 256, 1, 1)\n",
        "x = conv_leaky_relu(x, 512, 3, 1)\n",
        "x = conv_leaky_relu(x, 512, 1, 1)\n",
        "x = conv_leaky_relu(x, 1024, 3, 1)\n",
        "outputs = layers.MaxPool2D()(x)\n",
        "image_features_extract_model = keras.Model(inputs=img_inputs, outputs=outputs, name=\"YOLO_feature_extractor\")"
      ],
      "metadata": {
        "id": "v6k1sG0j-Ilu"
      },
      "execution_count": 8,
      "outputs": []
    },
    {
      "cell_type": "code",
      "source": [
        "# Find the maximum length of any caption in our dataset\n",
        "def calc_max_length(tensor):\n",
        "    return max(len(t) for t in tensor)\n",
        "# Choose the top 5000 words from the vocabulary\n",
        "top_k = 5000\n",
        "tokenizer = tf.keras.preprocessing.text.Tokenizer(num_words=top_k,\n",
        "                                                  oov_token=\"<unk>\",\n",
        "                                                  filters='!\"#$%&()*+.,-/:;=?@[\\]^_`{|}~ ')\n",
        "tokenizer.fit_on_texts(train_captions)\n",
        "train_seqs = tokenizer.texts_to_sequences(train_captions)\n",
        "tokenizer.word_index['<pad>'] = 0\n",
        "tokenizer.index_word[0] = '<pad>'\n",
        "# Create the tokenized vectors\n",
        "train_seqs = tokenizer.texts_to_sequences(train_captions)\n",
        "# Pad each vector to the max_length of the captions\n",
        "# If you do not provide a max_length value, pad_sequences calculates it automatically\n",
        "cap_vector = tf.keras.preprocessing.sequence.pad_sequences(train_seqs, padding='post')\n",
        "# Calculates the max_length, which is used to store the attention weights\n",
        "max_length = calc_max_length(train_seqs)"
      ],
      "metadata": {
        "id": "mPHaweH8YyA6"
      },
      "execution_count": 9,
      "outputs": []
    },
    {
      "cell_type": "code",
      "source": [
        "img_name_train = img_name_vector[:100000]\n",
        "cap_train = cap_vector[:100000]\n",
        "img_name_val = img_name_vector[100000:]\n",
        "cap_val = cap_vector[100000:]\n",
        "\n"
      ],
      "metadata": {
        "id": "Hom7XeXG9EZu"
      },
      "execution_count": 10,
      "outputs": []
    },
    {
      "cell_type": "code",
      "source": [
        "img_name_test = [PATH + f'a{i}.png' for i in range(120000,140000)]"
      ],
      "metadata": {
        "id": "tJr2uR0tjXr8"
      },
      "execution_count": 53,
      "outputs": []
    },
    {
      "cell_type": "code",
      "source": [
        "# Feel free to change these parameters according to your system's configuration\n",
        "\n",
        "BATCH_SIZE = 50\n",
        "BUFFER_SIZE = 5000\n",
        "embedding_dim = 256\n",
        "units = 512\n",
        "vocab_size = len(tokenizer.word_index) + 1\n",
        "num_steps = len(img_name_train) // BATCH_SIZE\n",
        "LEARNING_RATE = 1e-4"
      ],
      "metadata": {
        "id": "REGEMWCyZUzQ"
      },
      "execution_count": 11,
      "outputs": []
    },
    {
      "cell_type": "markdown",
      "source": [
        "把Parallel mapping、prefetch這些加速方法用上"
      ],
      "metadata": {
        "id": "ZT5MrIAz_C-V"
      }
    },
    {
      "cell_type": "code",
      "source": [
        "def map_func(img_name, cap):\n",
        "    img = tf.io.read_file(img_name)\n",
        "    img = tf.image.decode_jpeg(img, channels=3)\n",
        "    img = tf.image.resize(img, (IMAGE_SIZE, IMAGE_SIZE))\n",
        "    img = img / 255 * 2 - 1\n",
        "    return img, cap\n",
        "\n",
        "def map_test(img_name):\n",
        "    img = tf.io.read_file(img_name)\n",
        "    img = tf.image.decode_jpeg(img, channels=3)\n",
        "    img = tf.image.resize(img, (IMAGE_SIZE, IMAGE_SIZE))\n",
        "    img = img / 255 * 2 - 1\n",
        "    return img"
      ],
      "metadata": {
        "id": "vscocpuhZWeW"
      },
      "execution_count": 12,
      "outputs": []
    },
    {
      "cell_type": "code",
      "source": [
        "dataset_train = tf.data.Dataset.from_tensor_slices((img_name_train, cap_train))\\\n",
        "        .shuffle(BUFFER_SIZE)\\\n",
        "        .map(map_func, num_parallel_calls=tf.data.experimental.AUTOTUNE)\\\n",
        "        .batch(BATCH_SIZE)\\\n",
        "        .prefetch(tf.data.experimental.AUTOTUNE)\n",
        "\n",
        "dataset_valid = tf.data.Dataset.from_tensor_slices((img_name_val, cap_val))\\\n",
        "        .map(map_func, num_parallel_calls=tf.data.experimental.AUTOTUNE)\\\n",
        "        .batch(BATCH_SIZE)\\\n",
        "        .prefetch(tf.data.experimental.AUTOTUNE)\n",
        "\n"
      ],
      "metadata": {
        "id": "cyF_ljjdZZ5R"
      },
      "execution_count": 13,
      "outputs": []
    },
    {
      "cell_type": "code",
      "source": [
        "dataset_test = tf.data.Dataset.from_tensor_slices(img_name_test)\\\n",
        "        .map(map_test, num_parallel_calls=tf.data.experimental.AUTOTUNE)\\\n",
        "        .batch(BATCH_SIZE)\\\n",
        "        .prefetch(tf.data.experimental.AUTOTUNE)"
      ],
      "metadata": {
        "id": "Ex5j7fy6jZlU"
      },
      "execution_count": 54,
      "outputs": []
    },
    {
      "cell_type": "code",
      "source": [
        "class BahdanauAttention(tf.keras.Model):\n",
        "    def __init__(self, units):\n",
        "        super(BahdanauAttention, self).__init__()\n",
        "        self.W1 = tf.keras.layers.Dense(units)\n",
        "        self.W2 = tf.keras.layers.Dense(units)\n",
        "        self.V = tf.keras.layers.Dense(1)\n",
        "\n",
        "    def call(self, features, hidden):\n",
        "        # features(CNN_encoder output) shape == (batch_size, 64, embedding_dim)\n",
        "\n",
        "        # hidden shape == (batch_size, hidden_size)\n",
        "        # hidden_with_time_axis shape == (batch_size, 1, hidden_size)\n",
        "        hidden_with_time_axis = tf.expand_dims(hidden, 1)\n",
        "\n",
        "        # score shape == (batch_size, 64, hidden_size)\n",
        "        score = tf.nn.tanh(self.W1(features) + self.W2(hidden_with_time_axis))\n",
        "\n",
        "        # attention_weights shape == (batch_size, 64, 1)\n",
        "        # you get 1 at the last axis because you are applying score to self.V\n",
        "        attention_weights = tf.nn.softmax(self.V(score), axis=1)\n",
        "\n",
        "        # context_vector shape after sum == (batch_size, hidden_size)\n",
        "        context_vector = attention_weights * features\n",
        "        context_vector = tf.reduce_sum(context_vector, axis=1)\n",
        "\n",
        "        return context_vector, attention_weights"
      ],
      "metadata": {
        "id": "c3wCUuGwZc5p"
      },
      "execution_count": 14,
      "outputs": []
    },
    {
      "cell_type": "code",
      "source": [
        "class CNN_Encoder(tf.keras.Model):\n",
        "    # Since you have already extracted the features and dumped it using pickle\n",
        "    # This encoder passes those features through a Fully connected layer\n",
        "    def __init__(self, embedding_dim):\n",
        "        super(CNN_Encoder, self).__init__()\n",
        "        # shape after fc == (batch_size, 64, embedding_dim)\n",
        "        self.fc = tf.keras.layers.Dense(embedding_dim)\n",
        "\n",
        "    def call(self, x):\n",
        "        x = self.fc(x)\n",
        "        x = tf.nn.relu(x)\n",
        "        return x"
      ],
      "metadata": {
        "id": "eRLfL8eEZeiJ"
      },
      "execution_count": 15,
      "outputs": []
    },
    {
      "cell_type": "code",
      "source": [
        "class RNN_Decoder(tf.keras.Model):\n",
        "    def __init__(self, embedding_dim, units, vocab_size):\n",
        "        super(RNN_Decoder, self).__init__()\n",
        "        self.units = units\n",
        "\n",
        "        self.embedding = tf.keras.layers.Embedding(vocab_size, embedding_dim)\n",
        "        self.gru = tf.keras.layers.GRU(self.units,\n",
        "                                       return_sequences=True,\n",
        "                                       return_state=True,\n",
        "                                       recurrent_initializer='glorot_uniform')\n",
        "        self.fc1 = tf.keras.layers.Dense(self.units)\n",
        "        self.fc2 = tf.keras.layers.Dense(vocab_size)\n",
        "\n",
        "        self.attention = BahdanauAttention(self.units)\n",
        "\n",
        "    def call(self, x, features, hidden):\n",
        "        # defining attention as a separate model\n",
        "        context_vector, attention_weights = self.attention(features, hidden)\n",
        "\n",
        "        # x shape after passing through embedding == (batch_size, 1, embedding_dim)\n",
        "        x = self.embedding(x)\n",
        "\n",
        "        # x shape after concatenation == (batch_size, 1, embedding_dim + hidden_size)\n",
        "        x = tf.concat([tf.expand_dims(context_vector, 1), x], axis=-1)\n",
        "\n",
        "        # passing the concatenated vector to the GRU\n",
        "        output, state = self.gru(x)\n",
        "\n",
        "        # shape == (batch_size, max_length, hidden_size)\n",
        "        x = self.fc1(output)\n",
        "\n",
        "        # x shape == (batch_size * max_length, hidden_size)\n",
        "        x = tf.reshape(x, (-1, x.shape[2]))\n",
        "\n",
        "        # output shape == (batch_size * max_length, vocab)\n",
        "        x = self.fc2(x)\n",
        "\n",
        "        return x, state, attention_weights\n",
        "\n",
        "    def reset_state(self, batch_size):\n",
        "        return tf.zeros((batch_size, self.units))"
      ],
      "metadata": {
        "id": "dkvHzu89ZiEu"
      },
      "execution_count": 16,
      "outputs": []
    },
    {
      "cell_type": "code",
      "source": [
        "encoder = CNN_Encoder(embedding_dim)\n",
        "decoder = RNN_Decoder(embedding_dim, units, vocab_size)"
      ],
      "metadata": {
        "id": "AAJErFOEZoO2"
      },
      "execution_count": 17,
      "outputs": []
    },
    {
      "cell_type": "code",
      "source": [
        "optimizer = tf.keras.optimizers.Adam(learning_rate=LEARNING_RATE)\n",
        "loss_object = tf.keras.losses.SparseCategoricalCrossentropy(\n",
        "    from_logits=True, reduction='none')\n",
        "\n",
        "def loss_function(real, pred):\n",
        "    mask = tf.math.logical_not(tf.math.equal(real, 0))\n",
        "    loss_ = loss_object(real, pred)\n",
        "\n",
        "    mask = tf.cast(mask, dtype=loss_.dtype)\n",
        "    loss_ *= mask\n",
        "\n",
        "    return tf.reduce_mean(loss_)"
      ],
      "metadata": {
        "id": "W8MDYqwEZqxT"
      },
      "execution_count": 18,
      "outputs": []
    },
    {
      "cell_type": "code",
      "source": [
        "checkpoint_path = \"./checkpoints/train\"\n",
        "ckpt = tf.train.Checkpoint(image_features_extract_model = image_features_extract_model,\n",
        "                            encoder=encoder,\n",
        "                           decoder=decoder,\n",
        "                           optimizer = optimizer)\n",
        "ckpt_manager = tf.train.CheckpointManager(ckpt, checkpoint_path, max_to_keep=3)"
      ],
      "metadata": {
        "id": "me1RSL_GZvNR"
      },
      "execution_count": 19,
      "outputs": []
    },
    {
      "cell_type": "code",
      "source": [
        "start_epoch = 0\n",
        "if ckpt_manager.latest_checkpoint:\n",
        "    start_epoch = int(ckpt_manager.latest_checkpoint.split('-')[-1])"
      ],
      "metadata": {
        "id": "yOQE_OftZx-N"
      },
      "execution_count": 20,
      "outputs": []
    },
    {
      "cell_type": "code",
      "source": [
        "# adding this in a separate cell because if you run the training cell\n",
        "# many times, the loss_plot array will be reset\n",
        "loss_plot = []"
      ],
      "metadata": {
        "id": "bwoLQmGoZ0tH"
      },
      "execution_count": 21,
      "outputs": []
    },
    {
      "cell_type": "code",
      "source": [
        "@tf.function\n",
        "def train_step(img_tensor, target):\n",
        "    loss = 0\n",
        "\n",
        "    # initializing the hidden state for each batch\n",
        "    # because the captions are not related from image to image\n",
        "    hidden = decoder.reset_state(batch_size=target.shape[0])\n",
        "\n",
        "    dec_input = tf.expand_dims([tokenizer.word_index['<start>']] * BATCH_SIZE, 1)\n",
        "\n",
        "    with tf.GradientTape() as tape:\n",
        "        features = image_features_extract_model(img_tensor)\n",
        "        features = tf.reshape(features, (features.shape[0], -1, features.shape[3]))\n",
        "        features = encoder(features)\n",
        "\n",
        "        for i in range(1, target.shape[1]):\n",
        "            # passing the features through the decoder\n",
        "            predictions, hidden, _ = decoder(dec_input, features, hidden)\n",
        "\n",
        "            loss += loss_function(target[:, i], predictions)\n",
        "\n",
        "            # using teacher forcing\n",
        "            dec_input = tf.expand_dims(target[:, i], 1)\n",
        "\n",
        "    total_loss = (loss / int(target.shape[1]))\n",
        "\n",
        "    trainable_variables = encoder.trainable_variables + decoder.trainable_variables + image_features_extract_model.trainable_variables\n",
        "\n",
        "    gradients = tape.gradient(loss, trainable_variables)\n",
        "\n",
        "    optimizer.apply_gradients(zip(gradients, trainable_variables))\n",
        "\n",
        "    return loss, total_loss"
      ],
      "metadata": {
        "id": "dqfQiaVMZ6RS"
      },
      "execution_count": 22,
      "outputs": []
    },
    {
      "cell_type": "code",
      "source": [
        "EPOCHS = 10\n",
        "start = time.time()\n",
        "for epoch in range(start_epoch, EPOCHS):\n",
        "\n",
        "    total_loss = 0\n",
        "\n",
        "    for (batch, (img_tensor, target)) in tqdm(enumerate(dataset_train), total=num_steps):\n",
        "        batch_loss, t_loss = train_step(img_tensor, target)\n",
        "        total_loss += t_loss\n",
        "\n",
        "#         if batch % 100 == 0:\n",
        "#             print ('Epoch {} Batch {} Loss {:.4f}'.format(\n",
        "#               epoch + 1, batch, batch_loss.numpy() / int(target.shape[1])))\n",
        "    # storing the epoch end loss value to plot later\n",
        "    loss_plot.append(total_loss / num_steps)\n",
        "\n",
        "    if epoch % 5 == 0:\n",
        "        ckpt_manager.save()\n",
        "\n",
        "    print ('Epoch {} Loss {:.6f}'.format(epoch + 1,\n",
        "                                         total_loss/num_steps))\n",
        "print ('Time taken for {} epoch {} sec\\n'.format(EPOCHS, time.time() - start))"
      ],
      "metadata": {
        "id": "agqVYAMcZ62n",
        "colab": {
          "base_uri": "https://localhost:8080/"
        },
        "outputId": "a4ad3aa2-d940-4912-f631-efa1c61266a2"
      },
      "execution_count": 23,
      "outputs": [
        {
          "output_type": "stream",
          "name": "stderr",
          "text": [
            "100%|██████████| 2000/2000 [07:22<00:00,  4.52it/s]\n"
          ]
        },
        {
          "output_type": "stream",
          "name": "stdout",
          "text": [
            "Epoch 1 Loss 1.500475\n"
          ]
        },
        {
          "output_type": "stream",
          "name": "stderr",
          "text": [
            "100%|██████████| 2000/2000 [06:55<00:00,  4.81it/s]\n"
          ]
        },
        {
          "output_type": "stream",
          "name": "stdout",
          "text": [
            "Epoch 2 Loss 0.684144\n"
          ]
        },
        {
          "output_type": "stream",
          "name": "stderr",
          "text": [
            "100%|██████████| 2000/2000 [06:55<00:00,  4.82it/s]\n"
          ]
        },
        {
          "output_type": "stream",
          "name": "stdout",
          "text": [
            "Epoch 3 Loss 0.105266\n"
          ]
        },
        {
          "output_type": "stream",
          "name": "stderr",
          "text": [
            "100%|██████████| 2000/2000 [06:55<00:00,  4.82it/s]\n"
          ]
        },
        {
          "output_type": "stream",
          "name": "stdout",
          "text": [
            "Epoch 4 Loss 0.052427\n"
          ]
        },
        {
          "output_type": "stream",
          "name": "stderr",
          "text": [
            "100%|██████████| 2000/2000 [06:55<00:00,  4.81it/s]\n"
          ]
        },
        {
          "output_type": "stream",
          "name": "stdout",
          "text": [
            "Epoch 5 Loss 0.034074\n"
          ]
        },
        {
          "output_type": "stream",
          "name": "stderr",
          "text": [
            "100%|██████████| 2000/2000 [06:55<00:00,  4.81it/s]\n"
          ]
        },
        {
          "output_type": "stream",
          "name": "stdout",
          "text": [
            "Epoch 6 Loss 0.024379\n"
          ]
        },
        {
          "output_type": "stream",
          "name": "stderr",
          "text": [
            "100%|██████████| 2000/2000 [06:55<00:00,  4.81it/s]\n"
          ]
        },
        {
          "output_type": "stream",
          "name": "stdout",
          "text": [
            "Epoch 7 Loss 0.018488\n"
          ]
        },
        {
          "output_type": "stream",
          "name": "stderr",
          "text": [
            "100%|██████████| 2000/2000 [06:55<00:00,  4.81it/s]\n"
          ]
        },
        {
          "output_type": "stream",
          "name": "stdout",
          "text": [
            "Epoch 8 Loss 0.015587\n"
          ]
        },
        {
          "output_type": "stream",
          "name": "stderr",
          "text": [
            "100%|██████████| 2000/2000 [06:56<00:00,  4.81it/s]\n"
          ]
        },
        {
          "output_type": "stream",
          "name": "stdout",
          "text": [
            "Epoch 9 Loss 0.012971\n"
          ]
        },
        {
          "output_type": "stream",
          "name": "stderr",
          "text": [
            "100%|██████████| 2000/2000 [06:55<00:00,  4.81it/s]\n"
          ]
        },
        {
          "output_type": "stream",
          "name": "stdout",
          "text": [
            "Epoch 10 Loss 0.010134\n",
            "Time taken for 10 epoch 4270.969752073288 sec\n",
            "\n"
          ]
        }
      ]
    },
    {
      "cell_type": "code",
      "source": [
        "plt.plot(loss_plot)\n",
        "plt.xlabel('Epochs')\n",
        "plt.ylabel('Loss')\n",
        "plt.title('Loss Plot')\n",
        "plt.show()"
      ],
      "metadata": {
        "id": "3mLLkl5BZ_jY",
        "colab": {
          "base_uri": "https://localhost:8080/",
          "height": 472
        },
        "outputId": "74b93024-4968-4ec8-bbab-6a1eb067b1c6"
      },
      "execution_count": 24,
      "outputs": [
        {
          "output_type": "display_data",
          "data": {
            "text/plain": [
              "<Figure size 640x480 with 1 Axes>"
            ],
            "image/png": "[encoded data removed]"
          },
          "metadata": {}
        }
      ]
    },
    {
      "cell_type": "code",
      "source": [
        "def get_str(result):\n",
        "  ans = ''\n",
        "  for i in result:\n",
        "    i = i.numpy()\n",
        "    if tokenizer.index_word[i] == '<end>':\n",
        "      break\n",
        "    elif tokenizer.index_word[i] == '<start>':\n",
        "      continue\n",
        "    ans += tokenizer.index_word[i]\n",
        "  return ans"
      ],
      "metadata": {
        "id": "-GHhLvAk2d4w"
      },
      "execution_count": 44,
      "outputs": []
    },
    {
      "cell_type": "code",
      "source": [
        "#TODO\n",
        "def evaluate(img_tensor):\n",
        "\n",
        "    hidden = decoder.reset_state(batch_size=BATCH_SIZE)\n",
        "\n",
        "    features = image_features_extract_model(img_tensor)\n",
        "    features = tf.reshape(features, (features.shape[0], -1, features.shape[3]))\n",
        "    features = encoder(features)\n",
        "\n",
        "    dec_input = tf.expand_dims([tokenizer.word_index['<start>']] * BATCH_SIZE, 1)\n",
        "    result = tf.expand_dims([tokenizer.word_index['<start>']] * BATCH_SIZE, 1)\n",
        "\n",
        "    for i in range(max_length):\n",
        "        predictions, hidden, attention_weights = decoder(dec_input, features, hidden)\n",
        "        predicted_id = tf.argmax(predictions ,axis=1).numpy()\n",
        "        dec_input = tf.expand_dims(predicted_id, 1)\n",
        "        result = tf.concat([result, predicted_id.reshape((BATCH_SIZE, 1))], axis=1)\n",
        "\n",
        "    return result"
      ],
      "metadata": {
        "id": "K-WL_3eHaBrx"
      },
      "execution_count": 41,
      "outputs": []
    },
    {
      "cell_type": "code",
      "source": [
        "# captions on the validation set\n",
        "right_count = 0\n",
        "\n",
        "for (batch, (img_tensor, target)) in tqdm(enumerate(dataset_valid)):\n",
        "  result_batch = evaluate(img_tensor)\n",
        "  for id in range(BATCH_SIZE):\n",
        "    if get_str(result_batch[id]) == get_str(target[id]):\n",
        "      right_count += 1\n",
        "\n",
        "print(f'validation accuracy:{right_count/len(img_name_val)}')"
      ],
      "metadata": {
        "id": "hIfKxFz1aErR",
        "colab": {
          "base_uri": "https://localhost:8080/"
        },
        "outputId": "0484b934-1e32-4f96-b0f9-af49c1358fda"
      },
      "execution_count": 48,
      "outputs": [
        {
          "output_type": "stream",
          "name": "stderr",
          "text": [
            "400it [03:31,  1.89it/s]\n"
          ]
        },
        {
          "output_type": "stream",
          "name": "stdout",
          "text": [
            "validation accuracy:0.9487\n"
          ]
        }
      ]
    },
    {
      "cell_type": "code",
      "source": [
        "output_name = 'Lab12-2_110062209.txt'\n",
        "with open(output_name, 'w') as f:\n",
        "\n",
        "  for (batch, img_tensor) in tqdm(enumerate(dataset_test)):\n",
        "    result_batch = evaluate(img_tensor)\n",
        "    for id in range(BATCH_SIZE):\n",
        "      f.write(f'a{120000+id+batch*BATCH_SIZE} {get_str(result_batch[id])}')"
      ],
      "metadata": {
        "id": "-KXhwqOH027z",
        "colab": {
          "base_uri": "https://localhost:8080/"
        },
        "outputId": "77f1e485-0a70-44ea-f69e-ff64eff0892e"
      },
      "execution_count": 56,
      "outputs": [
        {
          "output_type": "stream",
          "name": "stderr",
          "text": [
            "400it [02:32,  2.63it/s]\n"
          ]
        }
      ]
    },
    {
      "cell_type": "markdown",
      "source": [
        "由於colab時間限制，我把epoch降到10，但10也夠把validation的accuracy提升到0.9487了"
      ],
      "metadata": {
        "id": "0oydeIQjkptU"
      }
    }
  ]
}